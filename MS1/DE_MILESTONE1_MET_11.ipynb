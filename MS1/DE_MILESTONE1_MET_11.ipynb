{
 "cells": [
  {
   "cell_type": "markdown",
   "metadata": {},
   "source": [
    "# Milestone 1 - EDA and Preprocessing data "
   ]
  },
  {
   "cell_type": "markdown",
   "metadata": {},
   "source": [
    "- Load dataset\n",
    "- Explore the dataset and ask atleast 5 questions to give you a better understanding of the data provided to you. \n",
    "- Visualise the answer to these 5 questions.\n",
    "- Cleaing the data\n",
    "- Observe missing data and comment on why you believe it is missing(MCAR,MAR or MNAR) \n",
    "- Observe duplicate data\n",
    "- Observe outliers\n",
    "- After observing outliers,missing data and duplicates, handle any unclean data.\n",
    "- With every change you are making to the data you need to comment on why you used this technique and how has it affected the data(by both showing the change in the data i.e change in number of rows/columns,change in distrubution, etc and commenting on it).\n",
    "- Data transformation and feature engineering\n",
    "- Add a new column named 'Week number' and discretisize the data into weeks according to the dates.Tip: Change the datatype of the date feature to datetime type instead of object.\n",
    "- Encode any categorical feature(s) and comment on why you used this technique and how the data has changed.\n",
    "- Identify feature(s) which need normalisation and show your reasoning.Then choose a technique to normalise the feature(s) and comment on why you chose this technique.\n",
    "- Add atleast two more columns which adds more info to the dataset by evaluating specific feature(s). I.E( Column indicating whether the accident was on a weekend or not). \n",
    "- For any imputation with arbitrary values or encoding done, you have to store what the value imputed or encoded represents in a new csv file. I.e if you impute a missing value with -1 or 100 you must have a csv file illustrating what -1 and 100 means. Or for instance, if you encode cities with 1,2,3,4,etc what each number represents must be shown in the new csv file.\n",
    "- Load the new dataset into a csv file.\n",
    "- **Extremely Important note** - Your code should be as generic as possible and not hard-coded and be able to work with various datasets. Any hard-coded solutions will be severely penalised.\n",
    "- Bonus: Load the dataset as a parquet file instead of a csv file(Parquet file is a compressed file format)."
   ]
  },
  {
   "cell_type": "markdown",
   "metadata": {},
   "source": [
    "# 1 - Extraction"
   ]
  },
  {
   "cell_type": "code",
   "execution_count": 217,
   "metadata": {},
   "outputs": [],
   "source": [
    "import pandas as pd\n",
    "import seaborn as sns\n",
    "import numpy as np\n",
    "import matplotlib.pyplot as plt\n",
    "import warnings\n",
    "warnings.filterwarnings(\"ignore\")\n",
    "sns.set_style('dark')"
   ]
  },
  {
   "cell_type": "code",
   "execution_count": 218,
   "metadata": {},
   "outputs": [
    {
     "name": "stdout",
     "output_type": "stream",
     "text": [
      "Number of records:  248276\n",
      "Number of features:  36\n"
     ]
    },
    {
     "data": {
      "text/html": [
       "<div>\n",
       "<style scoped>\n",
       "    .dataframe tbody tr th:only-of-type {\n",
       "        vertical-align: middle;\n",
       "    }\n",
       "\n",
       "    .dataframe tbody tr th {\n",
       "        vertical-align: top;\n",
       "    }\n",
       "\n",
       "    .dataframe thead th {\n",
       "        text-align: right;\n",
       "    }\n",
       "</style>\n",
       "<table border=\"1\" class=\"dataframe\">\n",
       "  <thead>\n",
       "    <tr style=\"text-align: right;\">\n",
       "      <th></th>\n",
       "      <th>accident_index</th>\n",
       "      <th>accident_year</th>\n",
       "      <th>accident_reference</th>\n",
       "      <th>location_easting_osgr</th>\n",
       "      <th>location_northing_osgr</th>\n",
       "      <th>longitude</th>\n",
       "      <th>latitude</th>\n",
       "      <th>police_force</th>\n",
       "      <th>accident_severity</th>\n",
       "      <th>number_of_vehicles</th>\n",
       "      <th>...</th>\n",
       "      <th>pedestrian_crossing_physical_facilities</th>\n",
       "      <th>light_conditions</th>\n",
       "      <th>weather_conditions</th>\n",
       "      <th>road_surface_conditions</th>\n",
       "      <th>special_conditions_at_site</th>\n",
       "      <th>carriageway_hazards</th>\n",
       "      <th>urban_or_rural_area</th>\n",
       "      <th>did_police_officer_attend_scene_of_accident</th>\n",
       "      <th>trunk_road_flag</th>\n",
       "      <th>lsoa_of_accident_location</th>\n",
       "    </tr>\n",
       "  </thead>\n",
       "  <tbody>\n",
       "    <tr>\n",
       "      <th>0</th>\n",
       "      <td>198101A1AJF60</td>\n",
       "      <td>1981</td>\n",
       "      <td>01A1AJF60</td>\n",
       "      <td>409490.0</td>\n",
       "      <td>430000.0</td>\n",
       "      <td>NaN</td>\n",
       "      <td>NaN</td>\n",
       "      <td>Metropolitan Police</td>\n",
       "      <td>Slight</td>\n",
       "      <td>3</td>\n",
       "      <td>...</td>\n",
       "      <td>NaN</td>\n",
       "      <td>Darkness - lights lit</td>\n",
       "      <td>Other</td>\n",
       "      <td>Dry</td>\n",
       "      <td>NaN</td>\n",
       "      <td>None</td>\n",
       "      <td>NaN</td>\n",
       "      <td>NaN</td>\n",
       "      <td>NaN</td>\n",
       "      <td>NaN</td>\n",
       "    </tr>\n",
       "    <tr>\n",
       "      <th>1</th>\n",
       "      <td>198101A1AKF27</td>\n",
       "      <td>1981</td>\n",
       "      <td>01A1AKF27</td>\n",
       "      <td>343790.0</td>\n",
       "      <td>747000.0</td>\n",
       "      <td>NaN</td>\n",
       "      <td>NaN</td>\n",
       "      <td>Metropolitan Police</td>\n",
       "      <td>Slight</td>\n",
       "      <td>2</td>\n",
       "      <td>...</td>\n",
       "      <td>NaN</td>\n",
       "      <td>Darkness - lights lit</td>\n",
       "      <td>Other</td>\n",
       "      <td>Dry</td>\n",
       "      <td>NaN</td>\n",
       "      <td>None</td>\n",
       "      <td>NaN</td>\n",
       "      <td>NaN</td>\n",
       "      <td>NaN</td>\n",
       "      <td>NaN</td>\n",
       "    </tr>\n",
       "    <tr>\n",
       "      <th>2</th>\n",
       "      <td>198101A1ALK52</td>\n",
       "      <td>1981</td>\n",
       "      <td>01A1ALK52</td>\n",
       "      <td>92370.0</td>\n",
       "      <td>202000.0</td>\n",
       "      <td>NaN</td>\n",
       "      <td>NaN</td>\n",
       "      <td>Metropolitan Police</td>\n",
       "      <td>Slight</td>\n",
       "      <td>3</td>\n",
       "      <td>...</td>\n",
       "      <td>NaN</td>\n",
       "      <td>Darkness - lights lit</td>\n",
       "      <td>Raining no high winds</td>\n",
       "      <td>Wet or damp</td>\n",
       "      <td>NaN</td>\n",
       "      <td>None</td>\n",
       "      <td>NaN</td>\n",
       "      <td>NaN</td>\n",
       "      <td>NaN</td>\n",
       "      <td>NaN</td>\n",
       "    </tr>\n",
       "    <tr>\n",
       "      <th>3</th>\n",
       "      <td>198101A1BBE59</td>\n",
       "      <td>1981</td>\n",
       "      <td>01A1BBE59</td>\n",
       "      <td>129270.0</td>\n",
       "      <td>489000.0</td>\n",
       "      <td>NaN</td>\n",
       "      <td>NaN</td>\n",
       "      <td>Metropolitan Police</td>\n",
       "      <td>Slight</td>\n",
       "      <td>3</td>\n",
       "      <td>...</td>\n",
       "      <td>NaN</td>\n",
       "      <td>Darkness - lights lit</td>\n",
       "      <td>Other</td>\n",
       "      <td>Wet or damp</td>\n",
       "      <td>NaN</td>\n",
       "      <td>None</td>\n",
       "      <td>NaN</td>\n",
       "      <td>NaN</td>\n",
       "      <td>NaN</td>\n",
       "      <td>NaN</td>\n",
       "    </tr>\n",
       "    <tr>\n",
       "      <th>4</th>\n",
       "      <td>198101A1BCC73</td>\n",
       "      <td>1981</td>\n",
       "      <td>01A1BCC73</td>\n",
       "      <td>368270.0</td>\n",
       "      <td>173000.0</td>\n",
       "      <td>NaN</td>\n",
       "      <td>NaN</td>\n",
       "      <td>Metropolitan Police</td>\n",
       "      <td>Slight</td>\n",
       "      <td>1</td>\n",
       "      <td>...</td>\n",
       "      <td>NaN</td>\n",
       "      <td>Darkness - lights lit</td>\n",
       "      <td>Other</td>\n",
       "      <td>Wet or damp</td>\n",
       "      <td>NaN</td>\n",
       "      <td>None</td>\n",
       "      <td>NaN</td>\n",
       "      <td>NaN</td>\n",
       "      <td>NaN</td>\n",
       "      <td>NaN</td>\n",
       "    </tr>\n",
       "  </tbody>\n",
       "</table>\n",
       "<p>5 rows × 36 columns</p>\n",
       "</div>"
      ],
      "text/plain": [
       "  accident_index  accident_year accident_reference  location_easting_osgr  \\\n",
       "0  198101A1AJF60           1981          01A1AJF60               409490.0   \n",
       "1  198101A1AKF27           1981          01A1AKF27               343790.0   \n",
       "2  198101A1ALK52           1981          01A1ALK52                92370.0   \n",
       "3  198101A1BBE59           1981          01A1BBE59               129270.0   \n",
       "4  198101A1BCC73           1981          01A1BCC73               368270.0   \n",
       "\n",
       "   location_northing_osgr  longitude  latitude         police_force  \\\n",
       "0                430000.0        NaN       NaN  Metropolitan Police   \n",
       "1                747000.0        NaN       NaN  Metropolitan Police   \n",
       "2                202000.0        NaN       NaN  Metropolitan Police   \n",
       "3                489000.0        NaN       NaN  Metropolitan Police   \n",
       "4                173000.0        NaN       NaN  Metropolitan Police   \n",
       "\n",
       "  accident_severity  number_of_vehicles  ...  \\\n",
       "0            Slight                   3  ...   \n",
       "1            Slight                   2  ...   \n",
       "2            Slight                   3  ...   \n",
       "3            Slight                   3  ...   \n",
       "4            Slight                   1  ...   \n",
       "\n",
       "   pedestrian_crossing_physical_facilities       light_conditions  \\\n",
       "0                                      NaN  Darkness - lights lit   \n",
       "1                                      NaN  Darkness - lights lit   \n",
       "2                                      NaN  Darkness - lights lit   \n",
       "3                                      NaN  Darkness - lights lit   \n",
       "4                                      NaN  Darkness - lights lit   \n",
       "\n",
       "      weather_conditions road_surface_conditions special_conditions_at_site  \\\n",
       "0                  Other                     Dry                        NaN   \n",
       "1                  Other                     Dry                        NaN   \n",
       "2  Raining no high winds             Wet or damp                        NaN   \n",
       "3                  Other             Wet or damp                        NaN   \n",
       "4                  Other             Wet or damp                        NaN   \n",
       "\n",
       "   carriageway_hazards  urban_or_rural_area  \\\n",
       "0                 None                  NaN   \n",
       "1                 None                  NaN   \n",
       "2                 None                  NaN   \n",
       "3                 None                  NaN   \n",
       "4                 None                  NaN   \n",
       "\n",
       "  did_police_officer_attend_scene_of_accident trunk_road_flag  \\\n",
       "0                                         NaN             NaN   \n",
       "1                                         NaN             NaN   \n",
       "2                                         NaN             NaN   \n",
       "3                                         NaN             NaN   \n",
       "4                                         NaN             NaN   \n",
       "\n",
       "  lsoa_of_accident_location  \n",
       "0                       NaN  \n",
       "1                       NaN  \n",
       "2                       NaN  \n",
       "3                       NaN  \n",
       "4                       NaN  \n",
       "\n",
       "[5 rows x 36 columns]"
      ]
     },
     "execution_count": 218,
     "metadata": {},
     "output_type": "execute_result"
    }
   ],
   "source": [
    "csv_lookup = {'Column Name': [], 'Original value': [], 'Mapped value': []}\n",
    "df = pd.read_csv('1981_Accidents_UK.csv', parse_dates=['date'], na_values=['Data missing or out of range', -1, '-1'])\n",
    "print('Number of records: ', df.shape[0])\n",
    "print('Number of features: ', df.shape[1])\n",
    "ORIGINAL_DATA_SIZE = df.shape[0]\n",
    "def new_size(df):\n",
    "    print('New data size: {} rows'.format(df.shape[0]))\n",
    "    drop_percent = (1-(df.shape[0] / ORIGINAL_DATA_SIZE)) * 100\n",
    "    print('Percentage of dropped data since beginning: {:.2f}%'.format(drop_percent))\n",
    "\n",
    "def append_lookup(col_name, original, new):\n",
    "    csv_lookup['Column Name'].append(col_name)\n",
    "    csv_lookup['Original value'].append(original)\n",
    "    csv_lookup['Mapped value'].append(new)\n",
    "df.head()"
   ]
  },
  {
   "cell_type": "code",
   "execution_count": 219,
   "metadata": {},
   "outputs": [
    {
     "data": {
      "text/html": [
       "<div>\n",
       "<style scoped>\n",
       "    .dataframe tbody tr th:only-of-type {\n",
       "        vertical-align: middle;\n",
       "    }\n",
       "\n",
       "    .dataframe tbody tr th {\n",
       "        vertical-align: top;\n",
       "    }\n",
       "\n",
       "    .dataframe thead th {\n",
       "        text-align: right;\n",
       "    }\n",
       "</style>\n",
       "<table border=\"1\" class=\"dataframe\">\n",
       "  <thead>\n",
       "    <tr style=\"text-align: right;\">\n",
       "      <th></th>\n",
       "      <th>accident_year</th>\n",
       "      <th>location_easting_osgr</th>\n",
       "      <th>location_northing_osgr</th>\n",
       "      <th>longitude</th>\n",
       "      <th>latitude</th>\n",
       "      <th>number_of_vehicles</th>\n",
       "      <th>number_of_casualties</th>\n",
       "      <th>local_authority_ons_district</th>\n",
       "      <th>local_authority_highway</th>\n",
       "      <th>speed_limit</th>\n",
       "      <th>urban_or_rural_area</th>\n",
       "      <th>did_police_officer_attend_scene_of_accident</th>\n",
       "      <th>trunk_road_flag</th>\n",
       "      <th>lsoa_of_accident_location</th>\n",
       "    </tr>\n",
       "  </thead>\n",
       "  <tbody>\n",
       "    <tr>\n",
       "      <th>count</th>\n",
       "      <td>248276.0</td>\n",
       "      <td>248193.000000</td>\n",
       "      <td>248193.000000</td>\n",
       "      <td>0.0</td>\n",
       "      <td>0.0</td>\n",
       "      <td>248276.000000</td>\n",
       "      <td>248276.000000</td>\n",
       "      <td>0.0</td>\n",
       "      <td>0.0</td>\n",
       "      <td>248276.000000</td>\n",
       "      <td>0.0</td>\n",
       "      <td>0.0</td>\n",
       "      <td>0.0</td>\n",
       "      <td>0.0</td>\n",
       "    </tr>\n",
       "    <tr>\n",
       "      <th>mean</th>\n",
       "      <td>1981.0</td>\n",
       "      <td>383399.933519</td>\n",
       "      <td>342966.804261</td>\n",
       "      <td>NaN</td>\n",
       "      <td>NaN</td>\n",
       "      <td>1.682494</td>\n",
       "      <td>1.308383</td>\n",
       "      <td>NaN</td>\n",
       "      <td>NaN</td>\n",
       "      <td>38.186732</td>\n",
       "      <td>NaN</td>\n",
       "      <td>NaN</td>\n",
       "      <td>NaN</td>\n",
       "      <td>NaN</td>\n",
       "    </tr>\n",
       "    <tr>\n",
       "      <th>std</th>\n",
       "      <td>0.0</td>\n",
       "      <td>127691.143290</td>\n",
       "      <td>214505.397728</td>\n",
       "      <td>NaN</td>\n",
       "      <td>NaN</td>\n",
       "      <td>0.705455</td>\n",
       "      <td>0.812953</td>\n",
       "      <td>NaN</td>\n",
       "      <td>NaN</td>\n",
       "      <td>13.509403</td>\n",
       "      <td>NaN</td>\n",
       "      <td>NaN</td>\n",
       "      <td>NaN</td>\n",
       "      <td>NaN</td>\n",
       "    </tr>\n",
       "    <tr>\n",
       "      <th>min</th>\n",
       "      <td>1981.0</td>\n",
       "      <td>1170.000000</td>\n",
       "      <td>500.000000</td>\n",
       "      <td>NaN</td>\n",
       "      <td>NaN</td>\n",
       "      <td>1.000000</td>\n",
       "      <td>1.000000</td>\n",
       "      <td>NaN</td>\n",
       "      <td>NaN</td>\n",
       "      <td>0.000000</td>\n",
       "      <td>NaN</td>\n",
       "      <td>NaN</td>\n",
       "      <td>NaN</td>\n",
       "      <td>NaN</td>\n",
       "    </tr>\n",
       "    <tr>\n",
       "      <th>25%</th>\n",
       "      <td>1981.0</td>\n",
       "      <td>324170.000000</td>\n",
       "      <td>176500.000000</td>\n",
       "      <td>NaN</td>\n",
       "      <td>NaN</td>\n",
       "      <td>1.000000</td>\n",
       "      <td>1.000000</td>\n",
       "      <td>NaN</td>\n",
       "      <td>NaN</td>\n",
       "      <td>30.000000</td>\n",
       "      <td>NaN</td>\n",
       "      <td>NaN</td>\n",
       "      <td>NaN</td>\n",
       "      <td>NaN</td>\n",
       "    </tr>\n",
       "    <tr>\n",
       "      <th>50%</th>\n",
       "      <td>1981.0</td>\n",
       "      <td>395060.000000</td>\n",
       "      <td>308850.000000</td>\n",
       "      <td>NaN</td>\n",
       "      <td>NaN</td>\n",
       "      <td>2.000000</td>\n",
       "      <td>1.000000</td>\n",
       "      <td>NaN</td>\n",
       "      <td>NaN</td>\n",
       "      <td>30.000000</td>\n",
       "      <td>NaN</td>\n",
       "      <td>NaN</td>\n",
       "      <td>NaN</td>\n",
       "      <td>NaN</td>\n",
       "    </tr>\n",
       "    <tr>\n",
       "      <th>75%</th>\n",
       "      <td>1981.0</td>\n",
       "      <td>458980.000000</td>\n",
       "      <td>431580.000000</td>\n",
       "      <td>NaN</td>\n",
       "      <td>NaN</td>\n",
       "      <td>2.000000</td>\n",
       "      <td>1.000000</td>\n",
       "      <td>NaN</td>\n",
       "      <td>NaN</td>\n",
       "      <td>40.000000</td>\n",
       "      <td>NaN</td>\n",
       "      <td>NaN</td>\n",
       "      <td>NaN</td>\n",
       "      <td>NaN</td>\n",
       "    </tr>\n",
       "    <tr>\n",
       "      <th>max</th>\n",
       "      <td>1981.0</td>\n",
       "      <td>998900.000000</td>\n",
       "      <td>999900.000000</td>\n",
       "      <td>NaN</td>\n",
       "      <td>NaN</td>\n",
       "      <td>56.000000</td>\n",
       "      <td>62.000000</td>\n",
       "      <td>NaN</td>\n",
       "      <td>NaN</td>\n",
       "      <td>70.000000</td>\n",
       "      <td>NaN</td>\n",
       "      <td>NaN</td>\n",
       "      <td>NaN</td>\n",
       "      <td>NaN</td>\n",
       "    </tr>\n",
       "  </tbody>\n",
       "</table>\n",
       "</div>"
      ],
      "text/plain": [
       "       accident_year  location_easting_osgr  location_northing_osgr  \\\n",
       "count       248276.0          248193.000000           248193.000000   \n",
       "mean          1981.0          383399.933519           342966.804261   \n",
       "std              0.0          127691.143290           214505.397728   \n",
       "min           1981.0            1170.000000              500.000000   \n",
       "25%           1981.0          324170.000000           176500.000000   \n",
       "50%           1981.0          395060.000000           308850.000000   \n",
       "75%           1981.0          458980.000000           431580.000000   \n",
       "max           1981.0          998900.000000           999900.000000   \n",
       "\n",
       "       longitude  latitude  number_of_vehicles  number_of_casualties  \\\n",
       "count        0.0       0.0       248276.000000         248276.000000   \n",
       "mean         NaN       NaN            1.682494              1.308383   \n",
       "std          NaN       NaN            0.705455              0.812953   \n",
       "min          NaN       NaN            1.000000              1.000000   \n",
       "25%          NaN       NaN            1.000000              1.000000   \n",
       "50%          NaN       NaN            2.000000              1.000000   \n",
       "75%          NaN       NaN            2.000000              1.000000   \n",
       "max          NaN       NaN           56.000000             62.000000   \n",
       "\n",
       "       local_authority_ons_district  local_authority_highway    speed_limit  \\\n",
       "count                           0.0                      0.0  248276.000000   \n",
       "mean                            NaN                      NaN      38.186732   \n",
       "std                             NaN                      NaN      13.509403   \n",
       "min                             NaN                      NaN       0.000000   \n",
       "25%                             NaN                      NaN      30.000000   \n",
       "50%                             NaN                      NaN      30.000000   \n",
       "75%                             NaN                      NaN      40.000000   \n",
       "max                             NaN                      NaN      70.000000   \n",
       "\n",
       "       urban_or_rural_area  did_police_officer_attend_scene_of_accident  \\\n",
       "count                  0.0                                          0.0   \n",
       "mean                   NaN                                          NaN   \n",
       "std                    NaN                                          NaN   \n",
       "min                    NaN                                          NaN   \n",
       "25%                    NaN                                          NaN   \n",
       "50%                    NaN                                          NaN   \n",
       "75%                    NaN                                          NaN   \n",
       "max                    NaN                                          NaN   \n",
       "\n",
       "       trunk_road_flag  lsoa_of_accident_location  \n",
       "count              0.0                        0.0  \n",
       "mean               NaN                        NaN  \n",
       "std                NaN                        NaN  \n",
       "min                NaN                        NaN  \n",
       "25%                NaN                        NaN  \n",
       "50%                NaN                        NaN  \n",
       "75%                NaN                        NaN  \n",
       "max                NaN                        NaN  "
      ]
     },
     "execution_count": 219,
     "metadata": {},
     "output_type": "execute_result"
    }
   ],
   "source": [
    "df.describe()"
   ]
  },
  {
   "cell_type": "code",
   "execution_count": 220,
   "metadata": {},
   "outputs": [
    {
     "name": "stdout",
     "output_type": "stream",
     "text": [
      "<class 'pandas.core.frame.DataFrame'>\n",
      "RangeIndex: 248276 entries, 0 to 248275\n",
      "Data columns (total 36 columns):\n",
      " #   Column                                       Non-Null Count   Dtype         \n",
      "---  ------                                       --------------   -----         \n",
      " 0   accident_index                               248276 non-null  object        \n",
      " 1   accident_year                                248276 non-null  int64         \n",
      " 2   accident_reference                           248276 non-null  object        \n",
      " 3   location_easting_osgr                        248193 non-null  float64       \n",
      " 4   location_northing_osgr                       248193 non-null  float64       \n",
      " 5   longitude                                    0 non-null       float64       \n",
      " 6   latitude                                     0 non-null       float64       \n",
      " 7   police_force                                 248276 non-null  object        \n",
      " 8   accident_severity                            248276 non-null  object        \n",
      " 9   number_of_vehicles                           248276 non-null  int64         \n",
      " 10  number_of_casualties                         248276 non-null  int64         \n",
      " 11  date                                         248276 non-null  datetime64[ns]\n",
      " 12  day_of_week                                  248276 non-null  object        \n",
      " 13  time                                         248276 non-null  object        \n",
      " 14  local_authority_district                     248276 non-null  object        \n",
      " 15  local_authority_ons_district                 0 non-null       float64       \n",
      " 16  local_authority_highway                      0 non-null       float64       \n",
      " 17  first_road_class                             248275 non-null  object        \n",
      " 18  first_road_number                            248263 non-null  object        \n",
      " 19  road_type                                    222616 non-null  object        \n",
      " 20  speed_limit                                  248276 non-null  float64       \n",
      " 21  junction_detail                              248267 non-null  object        \n",
      " 22  junction_control                             144235 non-null  object        \n",
      " 23  second_road_class                            111998 non-null  object        \n",
      " 24  second_road_number                           111990 non-null  object        \n",
      " 25  pedestrian_crossing_human_control            204524 non-null  object        \n",
      " 26  pedestrian_crossing_physical_facilities      204524 non-null  object        \n",
      " 27  light_conditions                             248252 non-null  object        \n",
      " 28  weather_conditions                           247516 non-null  object        \n",
      " 29  road_surface_conditions                      248241 non-null  object        \n",
      " 30  special_conditions_at_site                   201131 non-null  object        \n",
      " 31  carriageway_hazards                          248255 non-null  object        \n",
      " 32  urban_or_rural_area                          0 non-null       float64       \n",
      " 33  did_police_officer_attend_scene_of_accident  0 non-null       float64       \n",
      " 34  trunk_road_flag                              0 non-null       float64       \n",
      " 35  lsoa_of_accident_location                    0 non-null       float64       \n",
      "dtypes: datetime64[ns](1), float64(11), int64(3), object(21)\n",
      "memory usage: 68.2+ MB\n"
     ]
    }
   ],
   "source": [
    "df.info()"
   ]
  },
  {
   "cell_type": "markdown",
   "metadata": {},
   "source": [
    "# 2- EDA"
   ]
  },
  {
   "cell_type": "markdown",
   "metadata": {},
   "source": [
    "### How many accidents occured per accident severity?"
   ]
  },
  {
   "cell_type": "code",
   "execution_count": 221,
   "metadata": {},
   "outputs": [
    {
     "name": "stdout",
     "output_type": "stream",
     "text": [
      "Percentage of Slight accidents: 71.67%\n",
      "Percentage of Serious accidents: 26.17%\n",
      "Percentage of Fatal accidents: 2.16%\n"
     ]
    },
    {
     "data": {
      "image/png": "[encoded data removed]",
      "text/plain": [
       "<Figure size 400x400 with 1 Axes>"
      ]
     },
     "metadata": {},
     "output_type": "display_data"
    }
   ],
   "source": [
    "sns.catplot(data=df, x='accident_severity', kind='count', palette='rocket', height=4).set(title=\"Number of accidents per severity\")\n",
    "perc_slight = (df[df['accident_severity'] == 'Slight'].shape[0] / ORIGINAL_DATA_SIZE) * 100\n",
    "perc_serious = (df[df['accident_severity'] == 'Serious'].shape[0] / ORIGINAL_DATA_SIZE) * 100\n",
    "perc_fatal = (df[df['accident_severity'] == 'Fatal'].shape[0] / ORIGINAL_DATA_SIZE) * 100\n",
    "print('Percentage of Slight accidents: {:.2f}%'.format(perc_slight))\n",
    "print('Percentage of Serious accidents: {:.2f}%'.format(perc_serious))\n",
    "print('Percentage of Fatal accidents: {:.2f}%'.format(perc_fatal))\n",
    "plt.xlabel('Accident Severity')\n",
    "plt.ylabel('Number of accidents')\n",
    "plt.show()"
   ]
  },
  {
   "cell_type": "markdown",
   "metadata": {},
   "source": [
    ">Slight accidents are the most common followed by Serious accidents. Fatal accidents are rare."
   ]
  },
  {
   "cell_type": "markdown",
   "metadata": {},
   "source": [
    "### Are there weekdays that tend to have accedents more/less than others?"
   ]
  },
  {
   "cell_type": "code",
   "execution_count": 222,
   "metadata": {},
   "outputs": [
    {
     "name": "stdout",
     "output_type": "stream",
     "text": [
      "Accidents happen on Friday MORE frequently with a percentage of 17.04% MORE than average by 2.75%\n",
      "Accidents happen on Sunday LESS frequently with a percentage of 11.59% LESS than average by 2.69%\n"
     ]
    },
    {
     "data": {
      "image/png": "[encoded data removed]",
      "text/plain": [
       "<Figure size 500x500 with 1 Axes>"
      ]
     },
     "metadata": {},
     "output_type": "display_data"
    }
   ],
   "source": [
    "perc_per_day = df.groupby('day_of_week').count()['accident_index']\n",
    "perc_per_day = (perc_per_day / ORIGINAL_DATA_SIZE) * 100\n",
    "perc_per_day.sort_values(ascending=False, inplace=True)\n",
    "\n",
    "average_percentage = perc_per_day.mean()\n",
    "\n",
    "days = perc_per_day.index\n",
    "values = perc_per_day.values\n",
    "\n",
    "df.groupby('day_of_week').count() \n",
    "\n",
    "\n",
    "print('Accidents happen on {} MORE frequently with a percentage of {:.2f}% MORE than average by {:.2f}%'.format(days[0], values[0], values[0]-average_percentage))\n",
    "print('Accidents happen on {} LESS frequently with a percentage of {:.2f}% LESS than average by {:.2f}%'.format(days[len(days)-1], values[len(values)-1], average_percentage-values[len(values)-1]))\n",
    "\n",
    "sns.catplot(data=df, x='day_of_week', kind='count').set(title='Accident counts per day')\n",
    "plt.xticks(rotation=45)\n",
    "plt.xlabel('Day')\n",
    "plt.ylabel('Number of accidents')\n",
    "plt.show()"
   ]
  },
  {
   "cell_type": "markdown",
   "metadata": {},
   "source": [
    ">Friday has the biggest number of accidents with 17.04% of the data, while Sunday has the lowest rate with 11.59%. "
   ]
  },
  {
   "cell_type": "markdown",
   "metadata": {},
   "source": [
    "### Do higher speed limits cause more accidents? "
   ]
  },
  {
   "cell_type": "code",
   "execution_count": 223,
   "metadata": {},
   "outputs": [
    {
     "data": {
      "image/png": "[encoded data removed]",
      "text/plain": [
       "<Figure size 640x480 with 1 Axes>"
      ]
     },
     "metadata": {},
     "output_type": "display_data"
    }
   ],
   "source": [
    "sns.histplot(df['speed_limit'], bins=10,).set(title='Speed limits distribution')\n",
    "plt.xlabel('Speed Limit')\n",
    "plt.ylabel('Number of accidents')\n",
    "plt.show()"
   ]
  },
  {
   "cell_type": "markdown",
   "metadata": {},
   "source": [
    ">No! Most accidents happend on speeds close to 30mph."
   ]
  },
  {
   "cell_type": "markdown",
   "metadata": {},
   "source": [
    "### Do higher speed limits cause more FATAL accidents?"
   ]
  },
  {
   "cell_type": "code",
   "execution_count": 224,
   "metadata": {},
   "outputs": [
    {
     "data": {
      "image/png": "[encoded data removed]",
      "text/plain": [
       "<Figure size 618.611x500 with 1 Axes>"
      ]
     },
     "metadata": {},
     "output_type": "display_data"
    }
   ],
   "source": [
    "s = df['speed_limit'].value_counts().sort_values(ascending=False).index\n",
    "speed = s[0:7]\n",
    "d = df[df['speed_limit'].isin(speed)]\n",
    "sns.catplot(data=d, x='speed_limit', kind='count', hue='accident_severity')\n",
    "plt.xlabel('Speed Limit')\n",
    "plt.ylabel('Number of accidents')\n",
    "plt.show()"
   ]
  },
  {
   "cell_type": "markdown",
   "metadata": {},
   "source": [
    "> No. Slight accidents dominate the records for all speed limits!"
   ]
  },
  {
   "cell_type": "markdown",
   "metadata": {},
   "source": [
    "### Is there some time in the day when accidents happen more frequently? "
   ]
  },
  {
   "cell_type": "code",
   "execution_count": 225,
   "metadata": {},
   "outputs": [
    {
     "data": {
      "image/png": "[encoded data removed]",
      "text/plain": [
       "<Figure size 640x480 with 1 Axes>"
      ]
     },
     "metadata": {},
     "output_type": "display_data"
    },
    {
     "name": "stdout",
     "output_type": "stream",
     "text": [
      "8.96% of the accident happend from 16:00 to 17:00\n",
      "8.54% of the accident happend from 17:00 to 18:00\n",
      "7.18% of the accident happend from 15:00 to 16:00\n"
     ]
    }
   ],
   "source": [
    "d = df.copy()\n",
    "d['hour'] = pd.to_datetime(d['time'],format= '%H:%M' ).dt.hour\n",
    "v = d['hour'].value_counts().sort_values(ascending=False)\n",
    "hours = v.index.tolist()\n",
    "sns.distplot(d['hour']).set(title='Accidents timing distribution')\n",
    "plt.ylabel('Number of accidents')\n",
    "plt.xlabel('Hour (ex: 5 means from 5:00 to 6:00)')\n",
    "plt.xticks(range(0, 24), rotation=45)\n",
    "plt.show()\n",
    "for i in range(3):\n",
    "    percentage = ((v.iloc[i] ) / ORIGINAL_DATA_SIZE) * 100\n",
    "    print('{:.2f}% of the accident happend from {}:00 to {}:00'.format(percentage, hours[i], int(hours[i]) + 1))"
   ]
  },
  {
   "cell_type": "markdown",
   "metadata": {},
   "source": [
    "> Yes! 31% of the accidents happened from 2pm to 6pm"
   ]
  },
  {
   "cell_type": "markdown",
   "metadata": {},
   "source": [
    "# 3 - Cleaning Data"
   ]
  },
  {
   "cell_type": "markdown",
   "metadata": {},
   "source": [
    "## Observing Missing and duplicate Data"
   ]
  },
  {
   "cell_type": "markdown",
   "metadata": {},
   "source": [
    "### Columns with missing values and percentages of missing data for each column\n"
   ]
  },
  {
   "cell_type": "code",
   "execution_count": 227,
   "metadata": {},
   "outputs": [],
   "source": [
    "def percentage_of_missing_values(df):\n",
    "    columns_with_missing_values = df.columns[df.isna().any()]\n",
    "    return df[columns_with_missing_values].isna().mean().sort_values(ascending=False) * 100"
   ]
  },
  {
   "cell_type": "code",
   "execution_count": 228,
   "metadata": {},
   "outputs": [
    {
     "data": {
      "text/plain": [
       "lsoa_of_accident_location                      100.000000\n",
       "urban_or_rural_area                            100.000000\n",
       "longitude                                      100.000000\n",
       "latitude                                       100.000000\n",
       "local_authority_ons_district                   100.000000\n",
       "local_authority_highway                        100.000000\n",
       "trunk_road_flag                                100.000000\n",
       "did_police_officer_attend_scene_of_accident    100.000000\n",
       "second_road_number                              54.892942\n",
       "second_road_class                               54.889720\n",
       "junction_control                                41.905379\n",
       "special_conditions_at_site                      18.988948\n",
       "pedestrian_crossing_human_control               17.622324\n",
       "pedestrian_crossing_physical_facilities         17.622324\n",
       "road_type                                       10.335272\n",
       "weather_conditions                               0.306111\n",
       "location_northing_osgr                           0.033431\n",
       "location_easting_osgr                            0.033431\n",
       "road_surface_conditions                          0.014097\n",
       "light_conditions                                 0.009667\n",
       "carriageway_hazards                              0.008458\n",
       "first_road_number                                0.005236\n",
       "junction_detail                                  0.003625\n",
       "first_road_class                                 0.000403\n",
       "dtype: float64"
      ]
     },
     "execution_count": 228,
     "metadata": {},
     "output_type": "execute_result"
    }
   ],
   "source": [
    "percentage_of_missing_values(df)"
   ]
  },
  {
   "cell_type": "markdown",
   "metadata": {},
   "source": [
    "### Notice that the following columns have very small amount of missing data. \n",
    "### Since there is no pattern in the missing values and the amount is so small, hence it belongs to the <mark>MCAR </mark> type. \n",
    "\n",
    "<table>\n",
    "  <tr>\n",
    "    <th>Feature</th>\n",
    "    <th>Percentage of missing data per feature</th>\n",
    "  </tr>\n",
    "  <tr>\n",
    "    <td>weather_conditions</td>\n",
    "    <td>0.306111%</td>\n",
    "  </tr>\n",
    "  <tr>\n",
    "    <td>location_easting_osgr</td>\n",
    "    <td>0.033431%</td>\n",
    "  </tr>\n",
    "  <tr>\n",
    "    <td>location_northing_osgr</td>\n",
    "    <td>0.033431%</td>\n",
    "  </tr>\n",
    "\n",
    "  <tr>\n",
    "    <td>road_surface_conditions</td>\n",
    "    <td>0.014097%</td>\n",
    "  </tr>\n",
    "\n",
    "  <tr>\n",
    "    <td>light_conditions </td>\n",
    "     <td>0.009667%</td>\n",
    "  </tr>\n",
    "\n",
    "  <tr>\n",
    "    <td>carriageway_hazards </td>\n",
    "     <td>0.008458%</td>\n",
    "  </tr>\n",
    "\n",
    "  <tr>\n",
    "    <td>first_road_number</td>\n",
    "     <td>0.005236%</td>\n",
    "  </tr>\n",
    "\n",
    "  <tr>\n",
    "      <td>junction_detail </td>\n",
    "      <td>0.003625%</td>\n",
    "    </tr>\n",
    "\n",
    "</table>\n",
    "\n"
   ]
  },
  {
   "cell_type": "markdown",
   "metadata": {},
   "source": [
    "## Handling Missing data"
   ]
  },
  {
   "cell_type": "markdown",
   "metadata": {},
   "source": [
    "#### Let's calculate the total amount of rows where a row has a missing value in ANY of these columns"
   ]
  },
  {
   "cell_type": "code",
   "execution_count": 229,
   "metadata": {},
   "outputs": [],
   "source": [
    "columns_with_missing_values = df.columns[df.isna().any()]\n",
    "columns_to_drop = df[columns_with_missing_values].isna().mean() * 100\n",
    "columns_to_drop = columns_to_drop[columns_to_drop < 1]"
   ]
  },
  {
   "cell_type": "code",
   "execution_count": 230,
   "metadata": {},
   "outputs": [
    {
     "name": "stdout",
     "output_type": "stream",
     "text": [
      "Total number of rows:  913\n",
      "These rows contribute to the dataset with 0.37%\n"
     ]
    }
   ],
   "source": [
    "total_rows = df[columns_to_drop.index] \\\n",
    "    .isna().any(axis=1).sum()\n",
    "percentage = (total_rows / df.shape[0]) * 100\n",
    "print('Total number of rows: ', total_rows)\n",
    "print('These rows contribute to the dataset with {percentage:.2f}%'.format(percentage=percentage))"
   ]
  },
  {
   "cell_type": "markdown",
   "metadata": {},
   "source": [
    "##### Since these rows contribute to the data with an amount < 1% , it's safe drop them."
   ]
  },
  {
   "cell_type": "code",
   "execution_count": 231,
   "metadata": {},
   "outputs": [
    {
     "name": "stdout",
     "output_type": "stream",
     "text": [
      "New data size: 247363 rows\n",
      "Percentage of dropped data since beginning: 0.37%\n"
     ]
    }
   ],
   "source": [
    "l = columns_to_drop.index.tolist()\n",
    "condition = df[l[0]].isna()\n",
    "for i in range(1, len(l)):\n",
    "    condition |= df[l[i]].isna()\n",
    "df_droppedV1 = df[~condition]\n",
    "new_size(df_droppedV1)"
   ]
  },
  {
   "cell_type": "markdown",
   "metadata": {},
   "source": [
    "### Now we need to handle the following columns"
   ]
  },
  {
   "cell_type": "code",
   "execution_count": 232,
   "metadata": {},
   "outputs": [
    {
     "data": {
      "text/plain": [
       "longitude                                      100.000000\n",
       "latitude                                       100.000000\n",
       "local_authority_ons_district                   100.000000\n",
       "local_authority_highway                        100.000000\n",
       "urban_or_rural_area                            100.000000\n",
       "did_police_officer_attend_scene_of_accident    100.000000\n",
       "trunk_road_flag                                100.000000\n",
       "lsoa_of_accident_location                      100.000000\n",
       "second_road_number                              54.908374\n",
       "second_road_class                               54.905139\n",
       "junction_control                                41.889046\n",
       "special_conditions_at_site                      19.032758\n",
       "pedestrian_crossing_human_control               17.663919\n",
       "pedestrian_crossing_physical_facilities         17.663919\n",
       "road_type                                       10.344716\n",
       "dtype: float64"
      ]
     },
     "execution_count": 232,
     "metadata": {},
     "output_type": "execute_result"
    }
   ],
   "source": [
    "percentage_of_missing_values(df_droppedV1)"
   ]
  },
  {
   "cell_type": "markdown",
   "metadata": {},
   "source": [
    "#### Longitude and Latitude are completely missing but they can be calculated using Easting and Northing \n",
    "> For this conversion we will use a library called convertbng\n",
    ">> https://pypi.org/project/convertbng/\n"
   ]
  },
  {
   "cell_type": "markdown",
   "metadata": {},
   "source": [
    "#### The following code takes each pair of (easting, norting) and converts it to (latitude, longitude), the new generated columns are then used to fill our missing data."
   ]
  },
  {
   "cell_type": "code",
   "execution_count": 233,
   "metadata": {},
   "outputs": [],
   "source": [
    "from convertbng.util import convert_osgb36_to_lonlat\n",
    "easting = df_droppedV1['location_easting_osgr'].tolist()\n",
    "northing = df_droppedV1['location_northing_osgr'].tolist()\n",
    "long, lat = convert_osgb36_to_lonlat(easting, northing)\n",
    "df_cleanedV2 = df_droppedV1\n",
    "df_cleanedV2['longitude'] = long\n",
    "df_cleanedV2['latitude'] = lat"
   ]
  },
  {
   "cell_type": "markdown",
   "metadata": {},
   "source": [
    "### Are Longitude and LAtitude completely filled now?"
   ]
  },
  {
   "cell_type": "code",
   "execution_count": 234,
   "metadata": {},
   "outputs": [
    {
     "data": {
      "text/plain": [
       "latitude     0.176259\n",
       "longitude    0.176259\n",
       "dtype: float64"
      ]
     },
     "execution_count": 234,
     "metadata": {},
     "output_type": "execute_result"
    }
   ],
   "source": [
    "df_cleanedV2[['latitude', 'longitude']].isna().mean()*100"
   ]
  },
  {
   "cell_type": "markdown",
   "metadata": {},
   "source": [
    ">No! 17.62% are still missing."
   ]
  },
  {
   "cell_type": "markdown",
   "metadata": {},
   "source": [
    "### Latitude and Longitude columns are now filled with data\n",
    "####  But notice that there is still 0.17% of the records having NaN values, This is because the library that we used returns NaN for coordinates that are outside UK.\n",
    "#### Given that these records belong to UK, the original coordinates should lie in UK.\n",
    "#### Maybe an error happened when entering the data and easting and northing features were flipped??\n",
    ">Let's try flipping them."
   ]
  },
  {
   "cell_type": "code",
   "execution_count": 235,
   "metadata": {},
   "outputs": [
    {
     "name": "stdout",
     "output_type": "stream",
     "text": [
      "[58.0966236, nan, 57.27334435, 57.10290395, 58.71059545, 57.16375544, nan, 57.47336282, 57.88146393, nan, nan, 57.13739967, nan, nan, 57.23811356, 57.2156333, nan, nan, 56.45523643, nan, 57.86260306, 58.42050987, nan, nan, 57.28249414, nan, 57.14643315, nan, nan, nan, 58.7684083, 56.96305158, 58.68957085, 56.53806497, 56.5597363, 58.32465943, nan, nan, 58.79182782, nan, 56.62145436, 58.3441635, nan, nan, 57.6787433, nan, 58.73822004, 58.70512943, nan, nan, nan, nan, nan, nan, 57.16446208, nan, 58.72043696, 57.99326381, nan, nan, 56.88234807, nan, nan, 56.71325988, nan, nan, 58.39024952, nan, nan, nan, 58.64897037, 58.08095383, 56.84970284, 58.02656697, 57.74019468, 58.62956425, nan, nan, 58.73643778, nan, 58.46114193, nan, nan, 57.54604391, 57.96838027, 57.19607775, 57.16814213, nan, nan, 58.73431306, 57.1969724, nan, nan, nan, nan, nan, nan, 58.22577691, 58.72682611, 57.19607775, 57.63206755, 58.26260295, 57.85516613, 58.74096518, 56.84970284, 56.5395664, 57.1951831, 57.1951831, 57.19141447, nan, nan, nan, 57.15077199, nan, 57.19607775, nan, 57.16822826, 58.09421917, nan, 56.87474386, 58.72766087, 58.78266485, 58.6915784, nan, nan, 57.63972508, nan, 57.96854609, 57.93708697, nan, 56.62242967, nan, 57.97392753, 57.68850165, 56.57522113, 58.72161875, 58.03327873, 56.75695787, 58.73873456, nan, nan, 56.72205212, 56.31076756, nan, 56.30343427, nan, 57.91590839, nan, 58.42466393, 58.7437702, nan, 56.53939629, nan, nan, nan, 58.60065315, 58.2677276, nan, nan, nan, 56.96341148, 58.75611976, 56.5593643, nan, nan, 56.30690762, 57.15401356, 58.49139124, nan, 58.59445181, nan, nan, nan, nan, nan, 57.90641422, 56.70635979, nan, 58.69446511, nan, nan, 56.53094453, 58.70602461, nan, 57.56910251, 57.70512009, nan, 58.55012967, nan, nan, nan, nan, nan, nan, 58.459858, nan, 58.50417169, nan, nan, nan, nan, nan, 58.68706673, 57.97571298, 57.08494937, 56.77868338, nan, 57.17385644, 58.70364726, nan, 57.82364705, 58.69651138, nan, nan, nan, 57.82611666, 58.76708122, 57.99317956, 58.73564025, 58.71325184, 57.17034803, nan, nan, 57.88629078, nan, nan, nan, nan, nan, 58.69501549, nan, 58.70462114, nan, nan, 56.53329758, 57.9657848, nan, nan, nan, 57.88629078, 57.00408273, 57.83621292, 56.50164754, 56.8037603, nan, 58.08445418, 58.72924754, 58.69919013, 57.51410894, nan, nan, 57.45128996, nan, 58.72082531, nan, 57.42409088, 58.66962067, nan, 58.5861996, nan, nan, 58.21559492, nan, 58.69595398, nan, 57.42164627, nan, 58.70423426, nan, 57.43792985, 58.72260013, 58.70429594, nan, nan, nan, 58.56520579, 58.40223827, 57.6344259, nan, 58.34915076, nan, 58.35141682, 57.99468924, nan, 58.22845264, 57.67481272, 58.11075801, 56.95710484, 57.16671415, 58.74346009, 57.46746853, 56.3714726, 58.2309441, 58.67605383, 56.17155055, 58.81248771, 56.31227341, 58.0539107, 58.64473304, 56.10957227, 58.29144919, 58.13345573, 57.84142016, 58.36365113, 58.15982576, 56.26326996, 58.16525668, 58.11595979, 56.36871748, 58.43961966, 58.83892251, 56.42561355, 57.44621724, 57.96779738, 58.1049157, 57.4782347, 58.15555124, 58.17883367, 57.71338189, 57.27290072, 57.04080133, 58.8380588, 58.15479526, 56.8203953, 56.20707618, 57.0160895, 58.09194815, 58.04539613, 56.25957618, 57.32060284, 58.83978621, 58.15722793, 58.15416375, 56.31336976, 57.15550767, 57.06893805, 58.10392035, 57.57191205, 57.41676122, 56.54634752, 58.1484137, 57.88016952, 58.12257881, 58.2686628, 58.75610532, 57.55212328, 57.11230783, 57.00786998, 57.55578177, 56.19838907, 58.15543247, 56.98133866, 57.09617781, 56.36505052, 56.20370985, 57.55394136, 58.05689447, 58.03433595, 56.20456686, 58.00299092, 58.14961564, 56.79531021, 56.65749955, 58.18792125, 56.17516695, 56.40005165, 58.03163308, 57.97868666, 57.74599394, 57.79779524, 58.16617656, 56.21059048, 58.12903412, 56.22565484, 56.15029385, 56.74650502, 58.31710862, 58.00981295, 58.17674734, 57.57694812, 57.97205893, 56.16736412, 58.16975621, 58.48739591, 57.41142934, 56.75533509, 58.1049157, 57.19038626, 58.14954813, 56.17607429, 58.03490252, 56.14859356, 58.15472449, 56.72766661, 58.14149072, 56.20295906, 58.06633503, 56.34116565, 58.25271444, 58.03464082, 58.21528257, 58.30734151, 58.5573354, 58.31602184, 58.27828923, 58.47580742, 58.24443272, 58.13897177, 58.77834406, nan, 57.61849224, 57.91061428, 57.59891002, 57.59831209, 57.38955653, 58.40652616, 57.560245, 57.55962797, 56.75453578, 56.73934916, 56.75084537, 56.75668583, nan, nan, 57.64420736, 57.65639381, nan, nan, 56.6388455, 57.70546341, nan, 57.18900323, nan, 57.78734006, 57.77632096, 56.58030102]\n"
     ]
    }
   ],
   "source": [
    "xx = df_cleanedV2[df_cleanedV2['latitude'].isna()]\n",
    "# Flipping northing and easting and trying to convert again.\n",
    "northing = xx['location_easting_osgr'].tolist()\n",
    "easting = xx['location_northing_osgr'].tolist()\n",
    "lon, lat = convert_osgb36_to_lonlat(easting, northing)\n",
    "print(lat)"
   ]
  },
  {
   "cell_type": "markdown",
   "metadata": {},
   "source": [
    "> No! I tried the conversion again after flipping them and I got many NaN values\n",
    "#### Since this data is incorrect and does not contribute much to the dataset I decided to drop it. "
   ]
  },
  {
   "cell_type": "markdown",
   "metadata": {},
   "source": [
    "### Dropping records with NaN values in Latitude and Longitude"
   ]
  },
  {
   "cell_type": "code",
   "execution_count": 236,
   "metadata": {},
   "outputs": [
    {
     "name": "stdout",
     "output_type": "stream",
     "text": [
      "New data size: 246927 rows\n",
      "Percentage of dropped data since beginning: 0.54%\n"
     ]
    }
   ],
   "source": [
    "df_cleanedV2 = df_cleanedV2[~df_cleanedV2['latitude'].isna()]\n",
    "new_size(df_cleanedV2)"
   ]
  },
  {
   "cell_type": "markdown",
   "metadata": {},
   "source": [
    "#### Since the data belongs to UK and the british coordinate system consists of northing and easting values, This justifies why northing and easting columns are full while longitude and latitude are missing. Maybe they were not working with lat, long system and hence they did not record this data.\n",
    "### Since there is a pattern (completely missing) and the pattern cannot be justified by the data, missing data of Latitude and Longitude belongs to the <mark>MNAR</mark> class."
   ]
  },
  {
   "cell_type": "markdown",
   "metadata": {},
   "source": [
    "### The columns 'urban_or_rural_area' and 'trunk_road_flag' are completely missing, We will build a KNN model using the data from 1995 and try to predict the missing values.\n",
    "### For the same explanation as Latitude and Longitude, this missing data belongs to <mark>MNAR</mark> class. "
   ]
  },
  {
   "cell_type": "code",
   "execution_count": 237,
   "metadata": {},
   "outputs": [],
   "source": [
    "def fill_with_knn(df_training, df_fill, x, y):\n",
    "    from sklearn.model_selection import train_test_split\n",
    "    from sklearn.preprocessing import StandardScaler\n",
    "    from sklearn.neighbors import KNeighborsClassifier\n",
    "    l = []\n",
    "    l.append(y)\n",
    "    y = l\n",
    "    df_training = df_training[x + y]\n",
    "    df_train = df_training.dropna()\n",
    "\n",
    "    X = df_train[x]\n",
    "    Y = df_train[y]\n",
    "\n",
    "    X_train, X_test, Y_train, Y_test = train_test_split(X, Y, test_size=0.1)\n",
    "\n",
    "    scaler = StandardScaler()\n",
    "    scaler.fit(X_train)\n",
    "\n",
    "    X_train_transformed = scaler.transform(X_train)\n",
    "    X_test_transformed = scaler.transform(X_test)\n",
    "\n",
    "    knn = KNeighborsClassifier()\n",
    "    knn.fit(X_train_transformed, Y_train)\n",
    "    score = knn.score(X_test_transformed, Y_test) * 100\n",
    "    print('Accuracy for predicting {} is: {:.2f}%'.format(y[0], score))\n",
    "\n",
    "    scaler = StandardScaler()\n",
    "    X_transformed = scaler.fit_transform(X)\n",
    "\n",
    "    knn = KNeighborsClassifier()\n",
    "    knn.fit(X_transformed, Y)\n",
    "    \n",
    "    rows_to_predict = df_fill[df_fill[y[0]].isna()]\n",
    "    rows_to_predict_x = scaler.transform(rows_to_predict[x])\n",
    "    rows_to_predict[y] = knn.predict(rows_to_predict_x).reshape(-1,1)\n",
    "\n",
    "    df_fill[y] = rows_to_predict[y]"
   ]
  },
  {
   "cell_type": "markdown",
   "metadata": {},
   "source": [
    "### Now we can use this model to predict our missing values in both columns."
   ]
  },
  {
   "cell_type": "code",
   "execution_count": 238,
   "metadata": {},
   "outputs": [
    {
     "name": "stdout",
     "output_type": "stream",
     "text": [
      "Accuracy for predicting urban_or_rural_area is: 94.87%\n",
      "Accuracy for predicting trunk_road_flag is: 96.21%\n"
     ]
    }
   ],
   "source": [
    "data_urban_rural = pd.read_csv('1995_Accidents_UK.csv')\n",
    "data_trunk_road = data_urban_rural.copy()\n",
    "data_urban_rural = data_urban_rural[data_urban_rural['urban_or_rural_area'] != 'Unallocated']\n",
    "data_trunk_road = data_trunk_road[data_trunk_road['trunk_road_flag'] != 'Data missing or out of range']\n",
    "df_cleanedV3 = df_cleanedV2.copy()\n",
    "fill_with_knn(df_training=data_urban_rural, df_fill=df_cleanedV3, x=['location_easting_osgr', 'location_northing_osgr'], y='urban_or_rural_area')\n",
    "fill_with_knn(df_training=data_trunk_road, df_fill=df_cleanedV3, x=['location_easting_osgr', 'location_northing_osgr'], y='trunk_road_flag')"
   ]
  },
  {
   "cell_type": "markdown",
   "metadata": {},
   "source": [
    "### The column 'local_authority_district' contains a mix of districts and some uninterpretable numbers.\n",
    "### We will consider these numbers as missing values and train KNN model with the existing records and predict the missing ones  "
   ]
  },
  {
   "cell_type": "code",
   "execution_count": 239,
   "metadata": {},
   "outputs": [
    {
     "name": "stdout",
     "output_type": "stream",
     "text": [
      "Accuracy for predicting local_authority_district is: 86.68%\n"
     ]
    }
   ],
   "source": [
    "temp = df_cleanedV3.copy()\n",
    "is_digit = temp['local_authority_district'].astype(str).str.isdigit()\n",
    "missing = temp[is_digit]\n",
    "existing = temp[~is_digit]\n",
    "missing['local_authority_district'] = np.nan\n",
    "fill_with_knn(df_training=existing, df_fill=missing, x=['longitude', 'latitude'], y='local_authority_district')\n",
    "df_cleanedV4 = pd.concat([existing, missing])"
   ]
  },
  {
   "cell_type": "markdown",
   "metadata": {},
   "source": [
    "### Notice that second_road_number is the only column having missing values because first_road_class is either C or Unclassified, since there is a reason for the data to be missing, this belongs to the <mark>MAR</mark> type."
   ]
  },
  {
   "cell_type": "code",
   "execution_count": 240,
   "metadata": {},
   "outputs": [
    {
     "data": {
      "text/plain": [
       "array([nan,\n",
       "       'first_road_class is C or Unclassified. These roads do not have official numbers so recorded as zero ',\n",
       "       '5295.0', ..., '729.0', '710.0', '794.0'], dtype=object)"
      ]
     },
     "execution_count": 240,
     "metadata": {},
     "output_type": "execute_result"
    }
   ],
   "source": [
    "df_cleanedV4['second_road_number'].unique()"
   ]
  },
  {
   "cell_type": "markdown",
   "metadata": {},
   "source": [
    "### Since our data is purely categorical, if a column has alot of missing values imputing using the mode will cause the data to be skewed and this will affect out analysis. It's better to drop categorical columns that has many missing values.\n",
    "### Now we will drop all columns that has more than 80% missing values"
   ]
  },
  {
   "cell_type": "code",
   "execution_count": 241,
   "metadata": {},
   "outputs": [
    {
     "name": "stdout",
     "output_type": "stream",
     "text": [
      "New data size: 246927 rows\n",
      "Percentage of dropped data since beginning: 0.54%\n"
     ]
    }
   ],
   "source": [
    "perc = percentage_of_missing_values(df_cleanedV4)\n",
    "columns_to_drop = df_cleanedV4[perc[perc > 50].index.tolist()]\n",
    "df_cleanedV5 = df_cleanedV4.drop(columns_to_drop, axis='columns')\n",
    "new_size(df_cleanedV5)"
   ]
  },
  {
   "cell_type": "code",
   "execution_count": 242,
   "metadata": {},
   "outputs": [
    {
     "data": {
      "text/plain": [
       "junction_control                           41.866220\n",
       "special_conditions_at_site                 19.066364\n",
       "pedestrian_crossing_human_control          17.695108\n",
       "pedestrian_crossing_physical_facilities    17.695108\n",
       "road_type                                  10.362982\n",
       "dtype: float64"
      ]
     },
     "execution_count": 242,
     "metadata": {},
     "output_type": "execute_result"
    }
   ],
   "source": [
    "percentage_of_missing_values(df_cleanedV5)"
   ]
  },
  {
   "cell_type": "markdown",
   "metadata": {},
   "source": [
    "### Let's inspect the percentage of the mode for one of the above columns."
   ]
  },
  {
   "cell_type": "code",
   "execution_count": 243,
   "metadata": {},
   "outputs": [
    {
     "data": {
      "text/plain": [
       "None within 50 metres                 0.995419\n",
       "Control by school crossing patrol     0.003808\n",
       "Control by other authorised person    0.000773\n",
       "Name: pedestrian_crossing_human_control, dtype: float64"
      ]
     },
     "execution_count": 243,
     "metadata": {},
     "output_type": "execute_result"
    }
   ],
   "source": [
    "value_counts = df_cleanedV5['pedestrian_crossing_human_control'].value_counts()\n",
    "value_counts / value_counts.sum()"
   ]
  },
  {
   "cell_type": "markdown",
   "metadata": {},
   "source": [
    "### The output of the above cell shows that the mode is dominating with more than 99%. Columns like this are not useful for analysis. It acts almost like a column that is full with one value. So let's drop columns that have mode greater than 95% of the column."
   ]
  },
  {
   "cell_type": "code",
   "execution_count": 244,
   "metadata": {},
   "outputs": [],
   "source": [
    "columns = percentage_of_missing_values(df_cleanedV5).index.tolist()\n",
    "for i in columns:\n",
    "    value_counts = df_cleanedV5[i].value_counts()\n",
    "    mode_percentage = (value_counts / value_counts.sum()).values[0]\n",
    "    if mode_percentage >= 0.95:\n",
    "        df_cleanedV5.drop(i, axis='columns', inplace=True)"
   ]
  },
  {
   "cell_type": "code",
   "execution_count": 245,
   "metadata": {},
   "outputs": [
    {
     "data": {
      "text/plain": [
       "junction_control                           41.866220\n",
       "pedestrian_crossing_physical_facilities    17.695108\n",
       "road_type                                  10.362982\n",
       "dtype: float64"
      ]
     },
     "execution_count": 245,
     "metadata": {},
     "output_type": "execute_result"
    }
   ],
   "source": [
    "percentage_of_missing_values(df_cleanedV5)"
   ]
  },
  {
   "cell_type": "markdown",
   "metadata": {},
   "source": [
    "### Junction_control columns has 41.8% missing values. Imputing with the mode here is not a good option because it may lead to skewness in this column. So let's impute using an arbitrary value."
   ]
  },
  {
   "cell_type": "code",
   "execution_count": 246,
   "metadata": {},
   "outputs": [],
   "source": [
    "df_cleanedV5['junction_control'].fillna('Missing', inplace=True)\n",
    "append_lookup('junction_control', np.nan, 'Missing')"
   ]
  },
  {
   "cell_type": "markdown",
   "metadata": {},
   "source": [
    "### The rest of the columns now are categorical and the missing values are less than 50% of these columns.\n",
    "### Let's check the mode of these columns.\n",
    "> The following code gets the names of categorical columns that have missing values."
   ]
  },
  {
   "cell_type": "code",
   "execution_count": 247,
   "metadata": {},
   "outputs": [
    {
     "data": {
      "text/plain": [
       "Index(['pedestrian_crossing_physical_facilities', 'road_type'], dtype='object')"
      ]
     },
     "execution_count": 247,
     "metadata": {},
     "output_type": "execute_result"
    }
   ],
   "source": [
    "columns = df_cleanedV5.columns\n",
    "numeric_columns = df_cleanedV5._get_numeric_data().columns\n",
    "categorical_columns = list(set(columns) - set(numeric_columns))\n",
    "missing_columns = df_cleanedV5.columns[df_cleanedV5.isna().any()]\n",
    "categorical_missing = list(set(categorical_columns).intersection(set(missing_columns)))\n",
    "condition = df_cleanedV5[categorical_missing].isna().mean() * 100 < 50\n",
    "categorical_missing = condition[condition].index\n",
    "categorical_missing"
   ]
  },
  {
   "cell_type": "markdown",
   "metadata": {},
   "source": [
    "### Now let's check the mode of these columns."
   ]
  },
  {
   "cell_type": "code",
   "execution_count": 248,
   "metadata": {},
   "outputs": [
    {
     "name": "stdout",
     "output_type": "stream",
     "text": [
      "Column: pedestrian_crossing_physical_facilities\n",
      "Mode: No physical crossing facilities within 50 metres\n",
      "Occurences: 181948\n",
      "Contribution to the column: 89.53%\n",
      "-----------------\n",
      "Column: road_type\n",
      "Mode: Single carriageway\n",
      "Occurences: 180800\n",
      "Contribution to the column: 81.69%\n",
      "-----------------\n"
     ]
    }
   ],
   "source": [
    "percentages = []\n",
    "for col in categorical_missing:\n",
    "    mode = df_cleanedV5[col].mode()[0]\n",
    "    occurences_of_mode = df_cleanedV5[col].value_counts().sort_values(ascending=False)[0]\n",
    "    total = df_cleanedV5[col].value_counts().sort_values().sum()\n",
    "    percentage = (occurences_of_mode / total) * 100\n",
    "    percentages.append(percentage)\n",
    "    print('Column:', col)\n",
    "    print('Mode:', mode)\n",
    "    print('Occurences:', occurences_of_mode)\n",
    "    print('Contribution to the column: {:.2f}%'.format(percentage))\n",
    "    print('-----------------')\n",
    "        "
   ]
  },
  {
   "cell_type": "markdown",
   "metadata": {},
   "source": [
    "### Since the mode is dominating these columns by high percentage & the amount of missing values are not much compared to other columns, imputing using the mode here is a good option.\n",
    "### Now let's fill these columns using the mode."
   ]
  },
  {
   "cell_type": "code",
   "execution_count": 249,
   "metadata": {},
   "outputs": [],
   "source": [
    "df_cleanedV6 = df_cleanedV5.copy()\n",
    "for i, col in enumerate(categorical_missing):\n",
    "        df_cleanedV6[col].fillna(df_cleanedV6[col].mode()[0],inplace=True)"
   ]
  },
  {
   "cell_type": "markdown",
   "metadata": {},
   "source": [
    "#### accident_index and accident_reference are unique columns so they are not useful for analysis. Also, the year column has only one value. So let's drop these 3 columns."
   ]
  },
  {
   "cell_type": "code",
   "execution_count": 250,
   "metadata": {},
   "outputs": [],
   "source": [
    "df_cleanedV7 = df_cleanedV6.drop(['accident_index', 'accident_year', 'accident_reference'], axis='columns')"
   ]
  },
  {
   "cell_type": "markdown",
   "metadata": {},
   "source": [
    "### Let's investigate if there are any duplicate rows and drop them if there is any."
   ]
  },
  {
   "cell_type": "code",
   "execution_count": 251,
   "metadata": {},
   "outputs": [
    {
     "name": "stdout",
     "output_type": "stream",
     "text": [
      "The dataset contained 53 duplicated rows\n",
      "New data size: 246874 rows\n",
      "Percentage of dropped data since beginning: 0.56%\n"
     ]
    }
   ],
   "source": [
    "duplicate = df_cleanedV7.duplicated().sum()\n",
    "print('The dataset contained {} duplicated rows'.format(duplicate))\n",
    "if(duplicate > 0):\n",
    "    df_cleanedV8 = df_cleanedV7.drop_duplicates()\n",
    "new_size(df_cleanedV8)"
   ]
  },
  {
   "cell_type": "markdown",
   "metadata": {},
   "source": [
    "### Finally the columns First road number contains unique numbers that identify the roads so it is useless to our analysis."
   ]
  },
  {
   "cell_type": "code",
   "execution_count": 252,
   "metadata": {},
   "outputs": [],
   "source": [
    "df_cleanedV8.drop('first_road_number', axis=1, inplace=True)"
   ]
  },
  {
   "cell_type": "markdown",
   "metadata": {},
   "source": [
    "## Findings and conclusions"
   ]
  },
  {
   "cell_type": "markdown",
   "metadata": {},
   "source": [
    "### Let's confirm that we don't have any missing values."
   ]
  },
  {
   "cell_type": "code",
   "execution_count": 253,
   "metadata": {},
   "outputs": [
    {
     "data": {
      "text/plain": [
       "location_easting_osgr                      0\n",
       "location_northing_osgr                     0\n",
       "longitude                                  0\n",
       "latitude                                   0\n",
       "police_force                               0\n",
       "accident_severity                          0\n",
       "number_of_vehicles                         0\n",
       "number_of_casualties                       0\n",
       "date                                       0\n",
       "day_of_week                                0\n",
       "time                                       0\n",
       "local_authority_district                   0\n",
       "first_road_class                           0\n",
       "road_type                                  0\n",
       "speed_limit                                0\n",
       "junction_detail                            0\n",
       "junction_control                           0\n",
       "pedestrian_crossing_physical_facilities    0\n",
       "light_conditions                           0\n",
       "weather_conditions                         0\n",
       "road_surface_conditions                    0\n",
       "carriageway_hazards                        0\n",
       "urban_or_rural_area                        0\n",
       "trunk_road_flag                            0\n",
       "dtype: int64"
      ]
     },
     "execution_count": 253,
     "metadata": {},
     "output_type": "execute_result"
    }
   ],
   "source": [
    "df_cleanedV8.isna().sum()"
   ]
  },
  {
   "cell_type": "markdown",
   "metadata": {},
   "source": [
    ">All columns are now completely filled."
   ]
  },
  {
   "cell_type": "markdown",
   "metadata": {},
   "source": [
    "### Conclusion:\n",
    "<ul>\n",
    "    <li>Some columns were unique, hence they were dropped. (Accident_index, year, etc.)</li>\n",
    "    <li>For the columns that had very small percentage of missing values, the rows were dropped.</li>\n",
    "    <li>Categorical columns with more than 80% missing values were dropped in order not to skew the data by using the mode.</li>\n",
    "    <li>Latitude and Longitude columns were inferred using other columns.</li>\n",
    "    <li>Some columns were filled using KNN trained on another dataset.</li>\n",
    "    <li>Rows with high percentage of mode were imputed using the mode.</li>\n",
    "    <li>Duplicates were dropped.</li>\n",
    "</ul>"
   ]
  },
  {
   "cell_type": "markdown",
   "metadata": {},
   "source": [
    "# 4 - Data transformation"
   ]
  },
  {
   "cell_type": "markdown",
   "metadata": {},
   "source": [
    "## 4.1 - Discretization"
   ]
  },
  {
   "cell_type": "markdown",
   "metadata": {},
   "source": [
    "#### Add a new column named 'Week number' and discretize the data into weeks according to the dates."
   ]
  },
  {
   "cell_type": "code",
   "execution_count": 254,
   "metadata": {},
   "outputs": [],
   "source": [
    "dicretized = df_cleanedV8.copy()\n",
    "dicretized['Week number'] = df_cleanedV8['date'].dt.isocalendar().week"
   ]
  },
  {
   "cell_type": "markdown",
   "metadata": {},
   "source": [
    "#### From EDA notice that speed limits below 30mph contributes with very small percentage to the data set, so let's remove them and apply discretization afterwards.  "
   ]
  },
  {
   "cell_type": "code",
   "execution_count": 255,
   "metadata": {},
   "outputs": [
    {
     "data": {
      "image/png": "[encoded data removed]",
      "text/plain": [
       "<Figure size 640x480 with 1 Axes>"
      ]
     },
     "metadata": {},
     "output_type": "display_data"
    }
   ],
   "source": [
    "sns.histplot(data=dicretized, x='speed_limit', bins=10)\n",
    "plt.show()"
   ]
  },
  {
   "cell_type": "code",
   "execution_count": 256,
   "metadata": {},
   "outputs": [
    {
     "data": {
      "text/plain": [
       "30.0    171395\n",
       "60.0     44828\n",
       "40.0     16762\n",
       "70.0     11539\n",
       "50.0      2156\n",
       "10.0        82\n",
       "20.0        45\n",
       "15.0        34\n",
       "0.0          7\n",
       "34.0         4\n",
       "62.0         3\n",
       "66.0         3\n",
       "38.0         3\n",
       "25.0         3\n",
       "65.0         2\n",
       "61.0         1\n",
       "32.0         1\n",
       "48.0         1\n",
       "33.0         1\n",
       "37.0         1\n",
       "55.0         1\n",
       "39.0         1\n",
       "35.0         1\n",
       "Name: speed_limit, dtype: int64"
      ]
     },
     "execution_count": 256,
     "metadata": {},
     "output_type": "execute_result"
    }
   ],
   "source": [
    "dicretized['speed_limit'].value_counts()"
   ]
  },
  {
   "cell_type": "markdown",
   "metadata": {},
   "source": [
    "### Let's approximate each number to the nearest ten:\n",
    "> 54 -> 50 <br>\n",
    "> 115 -> 120"
   ]
  },
  {
   "cell_type": "code",
   "execution_count": 257,
   "metadata": {},
   "outputs": [
    {
     "data": {
      "text/plain": [
       "30.0    171401\n",
       "60.0     44835\n",
       "40.0     16768\n",
       "70.0     11542\n",
       "50.0      2157\n",
       "Name: speed_limit, dtype: int64"
      ]
     },
     "execution_count": 257,
     "metadata": {},
     "output_type": "execute_result"
    }
   ],
   "source": [
    "dicretized = dicretized[dicretized['speed_limit'] >= 30]\n",
    "dicretized['speed_limit'] = round(dicretized['speed_limit'], -1)\n",
    "dicretized['speed_limit'].value_counts()"
   ]
  },
  {
   "cell_type": "markdown",
   "metadata": {},
   "source": [
    "### The column light_condition has 5 unique values:\n",
    "Daylight <br>\n",
    "Darkness - lights lit<br>\n",
    "Darkness - no lighting<br>\n",
    "Darkness - lighting unknown<br>\n",
    "Darkness - lights unlit<br>\n",
    "### For easier analysis let's group these labels into 2 groups (normal conditions or non-normal conditions)\n",
    "### Let's consider normal conditions to be Daylight and Darkness - lights lit."
   ]
  },
  {
   "cell_type": "code",
   "execution_count": 258,
   "metadata": {},
   "outputs": [],
   "source": [
    "mapp = {}\n",
    "unique_light_conditions = dicretized['light_conditions'].unique()\n",
    "unique_light_conditions.tolist()\n",
    "for i in unique_light_conditions:\n",
    "    if i == 'Daylight' or i == 'Darkness - lights lit':\n",
    "        mapp[i] = 'Normal'\n",
    "    else:\n",
    "        mapp[i] = 'Non-normal'\n",
    "\n",
    "dicretized['light_conditions'] = dicretized['light_conditions'].map(mapp)"
   ]
  },
  {
   "cell_type": "markdown",
   "metadata": {},
   "source": [
    "### Let's apply the same strategy with road_surface_conditions. It has the following unique values:\n",
    "Dry                     \n",
    "Wet or damp             \n",
    "Frost or ice            \n",
    "Snow                    \n",
    "Flood over 3cm. deep    \n",
    "### Let's treat 'Dry' as a normal condition and any other value will be non-normal."
   ]
  },
  {
   "cell_type": "code",
   "execution_count": 259,
   "metadata": {},
   "outputs": [],
   "source": [
    "mapp = {}\n",
    "unique_light_conditions = dicretized['road_surface_conditions'].unique()\n",
    "unique_light_conditions.tolist()\n",
    "for i in unique_light_conditions:\n",
    "    if i == 'Dry':\n",
    "        mapp[i] = 'Normal'\n",
    "    else:\n",
    "        mapp[i] = 'Non-normal'\n",
    "\n",
    "dicretized['road_surface_conditions'] = dicretized['road_surface_conditions'].map(mapp)"
   ]
  },
  {
   "cell_type": "markdown",
   "metadata": {},
   "source": [
    "### Now let's apply the same strategy with the following columns :\n",
    "carriageway_hazards <br>\n",
    "pedestrian_crossing_physical_facilities<br>\n",
    "weather_conditions<br>\n",
    "junction_detail<br>\n",
    "junction_control<br>"
   ]
  },
  {
   "cell_type": "code",
   "execution_count": 260,
   "metadata": {},
   "outputs": [],
   "source": [
    "mapp = {}\n",
    "unique_light_conditions = dicretized['carriageway_hazards'].unique()\n",
    "unique_light_conditions.tolist()\n",
    "for i in unique_light_conditions:\n",
    "    if i == 'None':\n",
    "        mapp[i] = 'Normal'\n",
    "    else:\n",
    "        mapp[i] = 'Non-normal'\n",
    "\n",
    "dicretized['carriageway_hazards'] = dicretized['carriageway_hazards'].map(mapp)"
   ]
  },
  {
   "cell_type": "code",
   "execution_count": 261,
   "metadata": {},
   "outputs": [],
   "source": [
    "mapp = {}\n",
    "unique_light_conditions = dicretized['pedestrian_crossing_physical_facilities'].unique()\n",
    "unique_light_conditions.tolist()\n",
    "for i in unique_light_conditions:\n",
    "    if i == 'No physical crossing facilities within 50 metres':\n",
    "        mapp[i] = 0\n",
    "    else:\n",
    "        mapp[i] = 1\n",
    "\n",
    "dicretized['pedestrian_crossing_physical_facilities'] = dicretized['pedestrian_crossing_physical_facilities'].map(mapp)"
   ]
  },
  {
   "cell_type": "code",
   "execution_count": 262,
   "metadata": {},
   "outputs": [],
   "source": [
    "mapp = {}\n",
    "unique_light_conditions = dicretized['weather_conditions'].unique()\n",
    "unique_light_conditions.tolist()\n",
    "for i in unique_light_conditions:\n",
    "    if i == 'Fine no high winds':\n",
    "        mapp[i] = 'Normal'\n",
    "    else:\n",
    "        mapp[i] = 'Non-Normal'\n",
    "\n",
    "dicretized['weather_conditions'] = dicretized['weather_conditions'].map(mapp)"
   ]
  },
  {
   "cell_type": "code",
   "execution_count": 263,
   "metadata": {},
   "outputs": [],
   "source": [
    "mapp = {}\n",
    "unique_light_conditions = dicretized['junction_detail'].unique()\n",
    "unique_light_conditions.tolist()\n",
    "for i in unique_light_conditions:\n",
    "    if i == 'Not at junction or within 20 metres':\n",
    "        mapp[i] = 'Normal'\n",
    "    else:\n",
    "        mapp[i] = 'Non-Normal'\n",
    "\n",
    "dicretized['junction_detail'] = dicretized['junction_detail'].map(mapp)"
   ]
  },
  {
   "cell_type": "code",
   "execution_count": 264,
   "metadata": {},
   "outputs": [],
   "source": [
    "mapp = {}\n",
    "unique_light_conditions = dicretized['junction_control'].unique()\n",
    "unique_light_conditions.tolist()\n",
    "for i in unique_light_conditions:\n",
    "    if i == 'Give way or uncontrolled':\n",
    "        mapp[i] = 'Uncontrolled'\n",
    "    elif i == 'Missing':\n",
    "        mapp[i] = 'Missing'\n",
    "    else:\n",
    "        mapp[i] = 'Controlled'\n",
    "\n",
    "dicretized['junction_control'] = dicretized['junction_control'].map(mapp)"
   ]
  },
  {
   "cell_type": "markdown",
   "metadata": {},
   "source": [
    "### The following line will return a list of the numeric columns. This will be helpful in normalization."
   ]
  },
  {
   "cell_type": "code",
   "execution_count": 265,
   "metadata": {},
   "outputs": [],
   "source": [
    "to_be_normalized = dicretized.select_dtypes(include=np.number).columns.tolist()"
   ]
  },
  {
   "cell_type": "markdown",
   "metadata": {},
   "source": [
    "## 4.11 - Findings and conclusions"
   ]
  },
  {
   "cell_type": "markdown",
   "metadata": {},
   "source": [
    "### Now the dates have been transformed into weeks. This enables us to analyze the data by week and gives us a smaller range of values to work with."
   ]
  },
  {
   "cell_type": "code",
   "execution_count": 266,
   "metadata": {},
   "outputs": [
    {
     "data": {
      "text/plain": [
       "<IntegerArray>\n",
       "[ 1,  5,  9, 14, 18, 23, 27, 31, 36, 40, 44, 49,  3,  4,  6, 10, 45,  7,  8,\n",
       " 32, 11, 12, 13, 19, 16, 17,  2, 41, 20, 21, 22, 15, 28, 24, 25, 26, 37, 50,\n",
       " 29, 30, 33, 34, 35, 46, 38, 39, 42, 43, 47, 48, 51, 52, 53]\n",
       "Length: 53, dtype: UInt32"
      ]
     },
     "execution_count": 266,
     "metadata": {},
     "output_type": "execute_result"
    }
   ],
   "source": [
    "dicretized['Week number'].unique()"
   ]
  },
  {
   "cell_type": "markdown",
   "metadata": {},
   "source": [
    "### Similarly with speed limits, now we only have 5 unique values to deal with."
   ]
  },
  {
   "cell_type": "code",
   "execution_count": 267,
   "metadata": {},
   "outputs": [
    {
     "data": {
      "text/plain": [
       "array([30., 40., 70., 60., 50.])"
      ]
     },
     "execution_count": 267,
     "metadata": {},
     "output_type": "execute_result"
    }
   ],
   "source": [
    "dicretized['speed_limit'].unique()"
   ]
  },
  {
   "cell_type": "markdown",
   "metadata": {},
   "source": [
    "### light_conditions has only 2 values."
   ]
  },
  {
   "cell_type": "code",
   "execution_count": 268,
   "metadata": {},
   "outputs": [
    {
     "data": {
      "text/plain": [
       "array(['Normal', 'Non-normal'], dtype=object)"
      ]
     },
     "execution_count": 268,
     "metadata": {},
     "output_type": "execute_result"
    }
   ],
   "source": [
    "dicretized['light_conditions'].unique()"
   ]
  },
  {
   "cell_type": "markdown",
   "metadata": {},
   "source": [
    "### road_surface_conditions has only 2 values."
   ]
  },
  {
   "cell_type": "code",
   "execution_count": 269,
   "metadata": {},
   "outputs": [
    {
     "data": {
      "text/plain": [
       "Normal        0.626758\n",
       "Non-normal    0.373242\n",
       "Name: road_surface_conditions, dtype: float64"
      ]
     },
     "execution_count": 269,
     "metadata": {},
     "output_type": "execute_result"
    }
   ],
   "source": [
    "dicretized['road_surface_conditions'].value_counts()  / dicretized['road_surface_conditions'].value_counts().sum()"
   ]
  },
  {
   "cell_type": "markdown",
   "metadata": {},
   "source": [
    "# And similarly for all other columns."
   ]
  },
  {
   "cell_type": "markdown",
   "metadata": {},
   "source": [
    "## 4.2 - Encoding"
   ]
  },
  {
   "cell_type": "markdown",
   "metadata": {},
   "source": [
    "## Let's start by getting the names of categorical features. And see how many unique values does each column have."
   ]
  },
  {
   "cell_type": "code",
   "execution_count": 270,
   "metadata": {},
   "outputs": [
    {
     "data": {
      "text/plain": [
       "junction_detail                2\n",
       "light_conditions               2\n",
       "weather_conditions             2\n",
       "road_surface_conditions        2\n",
       "carriageway_hazards            2\n",
       "urban_or_rural_area            2\n",
       "trunk_road_flag                2\n",
       "accident_severity              3\n",
       "junction_control               3\n",
       "road_type                      4\n",
       "first_road_class               6\n",
       "day_of_week                    7\n",
       "police_force                  51\n",
       "local_authority_district     345\n",
       "date                         365\n",
       "time                        1396\n",
       "dtype: int64"
      ]
     },
     "execution_count": 270,
     "metadata": {},
     "output_type": "execute_result"
    }
   ],
   "source": [
    "encoded = dicretized.copy()\n",
    "categorical_columns = dicretized.select_dtypes(exclude=[\"number\"]).columns.tolist()\n",
    "encoded[categorical_columns].nunique().sort_values()"
   ]
  },
  {
   "cell_type": "markdown",
   "metadata": {},
   "source": [
    "### Let's first start by doing binary encoding for all <mark>binary</mark> features."
   ]
  },
  {
   "cell_type": "code",
   "execution_count": 271,
   "metadata": {},
   "outputs": [],
   "source": [
    "binary_columns = encoded[categorical_columns].nunique() == 2\n",
    "binary_columns = binary_columns[binary_columns].index.tolist()\n",
    "for col in binary_columns:\n",
    "    encoding = pd.get_dummies(encoded[col], drop_first=True)\n",
    "    encoded['{}_{}'.format(col, encoding.columns[0])] = encoding\n",
    "    encoded.drop(col, axis='columns', inplace=True)"
   ]
  },
  {
   "cell_type": "markdown",
   "metadata": {},
   "source": [
    "### Accident severity has three <mark>Oridinal</mark> values (Slight, Serious, Fatal). For this case label encoding is suitable."
   ]
  },
  {
   "cell_type": "code",
   "execution_count": 272,
   "metadata": {},
   "outputs": [],
   "source": [
    "from sklearn.preprocessing import LabelEncoder\n",
    "encoded['accident_severity'] = LabelEncoder().fit_transform(encoded['accident_severity'])\n",
    "append_lookup('accident_severity', 'Slight', 2)\n",
    "append_lookup('accident_severity', 'Serious', 1)\n",
    "append_lookup('accident_severity', 'Fatal', 0)"
   ]
  },
  {
   "cell_type": "markdown",
   "metadata": {},
   "source": [
    "### Now for all columns that have unique values less than 10, let's do one hot encoding.\n",
    "#### One hot encoding is suitable since these features are <mark>nominal</mark> and they are not binary."
   ]
  },
  {
   "cell_type": "code",
   "execution_count": 273,
   "metadata": {},
   "outputs": [],
   "source": [
    "categorical_columns = encoded.select_dtypes(exclude=[\"number\"]).columns.tolist()\n",
    "s = encoded[categorical_columns].nunique()\n",
    "columns = s[(s < 10)].index.tolist()\n",
    "\n",
    "for col in columns:\n",
    "    encoding = pd.get_dummies(encoded[col], prefix=col)\n",
    "    encoded.drop(col, axis='columns', inplace=True)\n",
    "    encoded = pd.concat([encoded, encoding], axis='columns')"
   ]
  },
  {
   "cell_type": "code",
   "execution_count": 274,
   "metadata": {},
   "outputs": [
    {
     "data": {
      "text/plain": [
       "['police_force', 'local_authority_district']"
      ]
     },
     "execution_count": 274,
     "metadata": {},
     "output_type": "execute_result"
    }
   ],
   "source": [
    "excluded = encoded.drop(['date', 'time'], axis=1)\n",
    "categorical_columns = excluded.select_dtypes(exclude=[\"number\"]).columns.tolist()\n",
    "categorical_columns"
   ]
  },
  {
   "cell_type": "markdown",
   "metadata": {},
   "source": [
    "### Police_force and local_authority_district have so many categories, using one hot encoding will create many columns and will not be suitable for this case. Instead let's perform one hot encoding for the top 10 categories only."
   ]
  },
  {
   "cell_type": "code",
   "execution_count": 275,
   "metadata": {},
   "outputs": [],
   "source": [
    "def calculate_top_categories(df, variable, how_many):\n",
    "    return [\n",
    "        x for x in df[variable].value_counts().sort_values(\n",
    "            ascending=False).head(how_many).index\n",
    "    ]\n",
    "\n",
    "def one_hot_encode(df, variable, top_x_labels):\n",
    "    for label in top_x_labels:\n",
    "        df[variable + '_' + label] = np.where(\n",
    "            df[variable] == label, 1, 0) "
   ]
  },
  {
   "cell_type": "code",
   "execution_count": 276,
   "metadata": {},
   "outputs": [],
   "source": [
    "for i in categorical_columns:\n",
    "    top = calculate_top_categories(encoded, i, 10)\n",
    "    one_hot_encode(encoded, i, top)\n",
    "    encoded.drop(i, axis=1, inplace=True)\n"
   ]
  },
  {
   "cell_type": "code",
   "execution_count": 277,
   "metadata": {},
   "outputs": [
    {
     "data": {
      "text/plain": [
       "['date', 'time']"
      ]
     },
     "execution_count": 277,
     "metadata": {},
     "output_type": "execute_result"
    }
   ],
   "source": [
    "encoded.select_dtypes(exclude=[\"number\"]).columns.tolist()"
   ]
  },
  {
   "cell_type": "markdown",
   "metadata": {},
   "source": [
    "## 4.22 - Findings and conlcusions"
   ]
  },
  {
   "cell_type": "markdown",
   "metadata": {},
   "source": [
    "<ul>\n",
    "    <li>Binary encoding was used for binary columns such as Urban or Rural.</li>\n",
    "    <li>One hot encoding was used for categories that are not more than 10.</li>\n",
    "    <li>One hot encoding for most frequent labels was used if the categories are more than 10.</li>\n",
    "    <li>The types of columns is now numeric except for the date and time which will be handled in the next section.</li>\n",
    "</ul>"
   ]
  },
  {
   "cell_type": "code",
   "execution_count": 278,
   "metadata": {},
   "outputs": [
    {
     "data": {
      "text/html": [
       "<div>\n",
       "<style scoped>\n",
       "    .dataframe tbody tr th:only-of-type {\n",
       "        vertical-align: middle;\n",
       "    }\n",
       "\n",
       "    .dataframe tbody tr th {\n",
       "        vertical-align: top;\n",
       "    }\n",
       "\n",
       "    .dataframe thead th {\n",
       "        text-align: right;\n",
       "    }\n",
       "</style>\n",
       "<table border=\"1\" class=\"dataframe\">\n",
       "  <thead>\n",
       "    <tr style=\"text-align: right;\">\n",
       "      <th></th>\n",
       "      <th>location_easting_osgr</th>\n",
       "      <th>location_northing_osgr</th>\n",
       "      <th>longitude</th>\n",
       "      <th>latitude</th>\n",
       "      <th>accident_severity</th>\n",
       "      <th>number_of_vehicles</th>\n",
       "      <th>number_of_casualties</th>\n",
       "      <th>date</th>\n",
       "      <th>time</th>\n",
       "      <th>speed_limit</th>\n",
       "      <th>...</th>\n",
       "      <th>local_authority_district_Spelthorne</th>\n",
       "      <th>local_authority_district_Westminster</th>\n",
       "      <th>local_authority_district_Southwark</th>\n",
       "      <th>local_authority_district_Birmingham</th>\n",
       "      <th>local_authority_district_Lambeth</th>\n",
       "      <th>local_authority_district_Croydon</th>\n",
       "      <th>local_authority_district_Barnet</th>\n",
       "      <th>local_authority_district_Islington</th>\n",
       "      <th>local_authority_district_Hackney</th>\n",
       "      <th>local_authority_district_Camden</th>\n",
       "    </tr>\n",
       "  </thead>\n",
       "  <tbody>\n",
       "    <tr>\n",
       "      <th>0</th>\n",
       "      <td>409490.0</td>\n",
       "      <td>430000.0</td>\n",
       "      <td>-1.857516</td>\n",
       "      <td>53.766278</td>\n",
       "      <td>2</td>\n",
       "      <td>3</td>\n",
       "      <td>1</td>\n",
       "      <td>1981-01-01</td>\n",
       "      <td>00:45</td>\n",
       "      <td>30.0</td>\n",
       "      <td>...</td>\n",
       "      <td>0</td>\n",
       "      <td>0</td>\n",
       "      <td>0</td>\n",
       "      <td>0</td>\n",
       "      <td>0</td>\n",
       "      <td>0</td>\n",
       "      <td>0</td>\n",
       "      <td>0</td>\n",
       "      <td>0</td>\n",
       "      <td>0</td>\n",
       "    </tr>\n",
       "    <tr>\n",
       "      <th>1</th>\n",
       "      <td>343790.0</td>\n",
       "      <td>747000.0</td>\n",
       "      <td>-2.917379</td>\n",
       "      <td>56.611478</td>\n",
       "      <td>2</td>\n",
       "      <td>2</td>\n",
       "      <td>4</td>\n",
       "      <td>1981-01-01</td>\n",
       "      <td>00:50</td>\n",
       "      <td>40.0</td>\n",
       "      <td>...</td>\n",
       "      <td>0</td>\n",
       "      <td>0</td>\n",
       "      <td>0</td>\n",
       "      <td>0</td>\n",
       "      <td>0</td>\n",
       "      <td>0</td>\n",
       "      <td>0</td>\n",
       "      <td>0</td>\n",
       "      <td>0</td>\n",
       "      <td>0</td>\n",
       "    </tr>\n",
       "    <tr>\n",
       "      <th>2</th>\n",
       "      <td>92370.0</td>\n",
       "      <td>202000.0</td>\n",
       "      <td>-6.447135</td>\n",
       "      <td>51.632471</td>\n",
       "      <td>2</td>\n",
       "      <td>3</td>\n",
       "      <td>4</td>\n",
       "      <td>1981-01-01</td>\n",
       "      <td>00:55</td>\n",
       "      <td>30.0</td>\n",
       "      <td>...</td>\n",
       "      <td>0</td>\n",
       "      <td>0</td>\n",
       "      <td>0</td>\n",
       "      <td>0</td>\n",
       "      <td>0</td>\n",
       "      <td>0</td>\n",
       "      <td>0</td>\n",
       "      <td>0</td>\n",
       "      <td>0</td>\n",
       "      <td>0</td>\n",
       "    </tr>\n",
       "    <tr>\n",
       "      <th>3</th>\n",
       "      <td>129270.0</td>\n",
       "      <td>489000.0</td>\n",
       "      <td>-6.155094</td>\n",
       "      <td>54.224961</td>\n",
       "      <td>2</td>\n",
       "      <td>3</td>\n",
       "      <td>2</td>\n",
       "      <td>1981-01-01</td>\n",
       "      <td>01:05</td>\n",
       "      <td>30.0</td>\n",
       "      <td>...</td>\n",
       "      <td>0</td>\n",
       "      <td>0</td>\n",
       "      <td>0</td>\n",
       "      <td>0</td>\n",
       "      <td>0</td>\n",
       "      <td>0</td>\n",
       "      <td>0</td>\n",
       "      <td>0</td>\n",
       "      <td>0</td>\n",
       "      <td>0</td>\n",
       "    </tr>\n",
       "    <tr>\n",
       "      <th>4</th>\n",
       "      <td>368270.0</td>\n",
       "      <td>173000.0</td>\n",
       "      <td>-2.458051</td>\n",
       "      <td>51.455082</td>\n",
       "      <td>2</td>\n",
       "      <td>1</td>\n",
       "      <td>1</td>\n",
       "      <td>1981-01-01</td>\n",
       "      <td>01:10</td>\n",
       "      <td>30.0</td>\n",
       "      <td>...</td>\n",
       "      <td>0</td>\n",
       "      <td>0</td>\n",
       "      <td>0</td>\n",
       "      <td>0</td>\n",
       "      <td>0</td>\n",
       "      <td>0</td>\n",
       "      <td>0</td>\n",
       "      <td>0</td>\n",
       "      <td>0</td>\n",
       "      <td>0</td>\n",
       "    </tr>\n",
       "  </tbody>\n",
       "</table>\n",
       "<p>5 rows × 59 columns</p>\n",
       "</div>"
      ],
      "text/plain": [
       "   location_easting_osgr  location_northing_osgr  longitude   latitude  \\\n",
       "0               409490.0                430000.0  -1.857516  53.766278   \n",
       "1               343790.0                747000.0  -2.917379  56.611478   \n",
       "2                92370.0                202000.0  -6.447135  51.632471   \n",
       "3               129270.0                489000.0  -6.155094  54.224961   \n",
       "4               368270.0                173000.0  -2.458051  51.455082   \n",
       "\n",
       "   accident_severity  number_of_vehicles  number_of_casualties       date  \\\n",
       "0                  2                   3                     1 1981-01-01   \n",
       "1                  2                   2                     4 1981-01-01   \n",
       "2                  2                   3                     4 1981-01-01   \n",
       "3                  2                   3                     2 1981-01-01   \n",
       "4                  2                   1                     1 1981-01-01   \n",
       "\n",
       "    time  speed_limit  ...  local_authority_district_Spelthorne  \\\n",
       "0  00:45         30.0  ...                                    0   \n",
       "1  00:50         40.0  ...                                    0   \n",
       "2  00:55         30.0  ...                                    0   \n",
       "3  01:05         30.0  ...                                    0   \n",
       "4  01:10         30.0  ...                                    0   \n",
       "\n",
       "   local_authority_district_Westminster  local_authority_district_Southwark  \\\n",
       "0                                     0                                   0   \n",
       "1                                     0                                   0   \n",
       "2                                     0                                   0   \n",
       "3                                     0                                   0   \n",
       "4                                     0                                   0   \n",
       "\n",
       "   local_authority_district_Birmingham  local_authority_district_Lambeth  \\\n",
       "0                                    0                                 0   \n",
       "1                                    0                                 0   \n",
       "2                                    0                                 0   \n",
       "3                                    0                                 0   \n",
       "4                                    0                                 0   \n",
       "\n",
       "   local_authority_district_Croydon  local_authority_district_Barnet  \\\n",
       "0                                 0                                0   \n",
       "1                                 0                                0   \n",
       "2                                 0                                0   \n",
       "3                                 0                                0   \n",
       "4                                 0                                0   \n",
       "\n",
       "   local_authority_district_Islington  local_authority_district_Hackney  \\\n",
       "0                                   0                                 0   \n",
       "1                                   0                                 0   \n",
       "2                                   0                                 0   \n",
       "3                                   0                                 0   \n",
       "4                                   0                                 0   \n",
       "\n",
       "   local_authority_district_Camden  \n",
       "0                                0  \n",
       "1                                0  \n",
       "2                                0  \n",
       "3                                0  \n",
       "4                                0  \n",
       "\n",
       "[5 rows x 59 columns]"
      ]
     },
     "execution_count": 278,
     "metadata": {},
     "output_type": "execute_result"
    }
   ],
   "source": [
    "encoded.head()"
   ]
  },
  {
   "cell_type": "markdown",
   "metadata": {},
   "source": [
    "## 4.4 - Adding more columns"
   ]
  },
  {
   "cell_type": "markdown",
   "metadata": {},
   "source": [
    "### Let's add a column to indicate if the accident happened on weekend days or not. More over let's create a column for the month and drop the date since the year is always 1981 and we are not interested in the day itself. "
   ]
  },
  {
   "cell_type": "code",
   "execution_count": 279,
   "metadata": {},
   "outputs": [],
   "source": [
    "add_columns = encoded.copy()\n",
    "add_columns['Weekend'] = (add_columns['date'].dt.dayofweek > 4).astype(int)\n",
    "add_columns['month'] = add_columns['date'].dt.month"
   ]
  },
  {
   "cell_type": "markdown",
   "metadata": {},
   "source": [
    "### Accidents are not that frequent, so it's better to analyze them for every 6 hours rather than every hour. Let's divide the time into 4 intervals of 6 hours (Morning, Afternoon, Evening and Dawn). Afterward we will perform one hot encoding since this feature is nominal. "
   ]
  },
  {
   "cell_type": "code",
   "execution_count": 280,
   "metadata": {},
   "outputs": [
    {
     "data": {
      "text/html": [
       "<div>\n",
       "<style scoped>\n",
       "    .dataframe tbody tr th:only-of-type {\n",
       "        vertical-align: middle;\n",
       "    }\n",
       "\n",
       "    .dataframe tbody tr th {\n",
       "        vertical-align: top;\n",
       "    }\n",
       "\n",
       "    .dataframe thead th {\n",
       "        text-align: right;\n",
       "    }\n",
       "</style>\n",
       "<table border=\"1\" class=\"dataframe\">\n",
       "  <thead>\n",
       "    <tr style=\"text-align: right;\">\n",
       "      <th></th>\n",
       "      <th>location_easting_osgr</th>\n",
       "      <th>location_northing_osgr</th>\n",
       "      <th>longitude</th>\n",
       "      <th>latitude</th>\n",
       "      <th>accident_severity</th>\n",
       "      <th>number_of_vehicles</th>\n",
       "      <th>number_of_casualties</th>\n",
       "      <th>speed_limit</th>\n",
       "      <th>pedestrian_crossing_physical_facilities</th>\n",
       "      <th>Week number</th>\n",
       "      <th>...</th>\n",
       "      <th>local_authority_district_Barnet</th>\n",
       "      <th>local_authority_district_Islington</th>\n",
       "      <th>local_authority_district_Hackney</th>\n",
       "      <th>local_authority_district_Camden</th>\n",
       "      <th>Weekend</th>\n",
       "      <th>month</th>\n",
       "      <th>Afternoon</th>\n",
       "      <th>Dawn</th>\n",
       "      <th>Evening</th>\n",
       "      <th>Morning</th>\n",
       "    </tr>\n",
       "  </thead>\n",
       "  <tbody>\n",
       "    <tr>\n",
       "      <th>0</th>\n",
       "      <td>409490.0</td>\n",
       "      <td>430000.0</td>\n",
       "      <td>-1.857516</td>\n",
       "      <td>53.766278</td>\n",
       "      <td>2</td>\n",
       "      <td>3</td>\n",
       "      <td>1</td>\n",
       "      <td>30.0</td>\n",
       "      <td>0</td>\n",
       "      <td>1</td>\n",
       "      <td>...</td>\n",
       "      <td>0</td>\n",
       "      <td>0</td>\n",
       "      <td>0</td>\n",
       "      <td>0</td>\n",
       "      <td>0</td>\n",
       "      <td>1</td>\n",
       "      <td>0</td>\n",
       "      <td>1</td>\n",
       "      <td>0</td>\n",
       "      <td>0</td>\n",
       "    </tr>\n",
       "    <tr>\n",
       "      <th>1</th>\n",
       "      <td>343790.0</td>\n",
       "      <td>747000.0</td>\n",
       "      <td>-2.917379</td>\n",
       "      <td>56.611478</td>\n",
       "      <td>2</td>\n",
       "      <td>2</td>\n",
       "      <td>4</td>\n",
       "      <td>40.0</td>\n",
       "      <td>0</td>\n",
       "      <td>1</td>\n",
       "      <td>...</td>\n",
       "      <td>0</td>\n",
       "      <td>0</td>\n",
       "      <td>0</td>\n",
       "      <td>0</td>\n",
       "      <td>0</td>\n",
       "      <td>1</td>\n",
       "      <td>0</td>\n",
       "      <td>1</td>\n",
       "      <td>0</td>\n",
       "      <td>0</td>\n",
       "    </tr>\n",
       "    <tr>\n",
       "      <th>2</th>\n",
       "      <td>92370.0</td>\n",
       "      <td>202000.0</td>\n",
       "      <td>-6.447135</td>\n",
       "      <td>51.632471</td>\n",
       "      <td>2</td>\n",
       "      <td>3</td>\n",
       "      <td>4</td>\n",
       "      <td>30.0</td>\n",
       "      <td>0</td>\n",
       "      <td>1</td>\n",
       "      <td>...</td>\n",
       "      <td>0</td>\n",
       "      <td>0</td>\n",
       "      <td>0</td>\n",
       "      <td>0</td>\n",
       "      <td>0</td>\n",
       "      <td>1</td>\n",
       "      <td>0</td>\n",
       "      <td>1</td>\n",
       "      <td>0</td>\n",
       "      <td>0</td>\n",
       "    </tr>\n",
       "    <tr>\n",
       "      <th>3</th>\n",
       "      <td>129270.0</td>\n",
       "      <td>489000.0</td>\n",
       "      <td>-6.155094</td>\n",
       "      <td>54.224961</td>\n",
       "      <td>2</td>\n",
       "      <td>3</td>\n",
       "      <td>2</td>\n",
       "      <td>30.0</td>\n",
       "      <td>0</td>\n",
       "      <td>1</td>\n",
       "      <td>...</td>\n",
       "      <td>0</td>\n",
       "      <td>0</td>\n",
       "      <td>0</td>\n",
       "      <td>0</td>\n",
       "      <td>0</td>\n",
       "      <td>1</td>\n",
       "      <td>0</td>\n",
       "      <td>1</td>\n",
       "      <td>0</td>\n",
       "      <td>0</td>\n",
       "    </tr>\n",
       "    <tr>\n",
       "      <th>4</th>\n",
       "      <td>368270.0</td>\n",
       "      <td>173000.0</td>\n",
       "      <td>-2.458051</td>\n",
       "      <td>51.455082</td>\n",
       "      <td>2</td>\n",
       "      <td>1</td>\n",
       "      <td>1</td>\n",
       "      <td>30.0</td>\n",
       "      <td>0</td>\n",
       "      <td>1</td>\n",
       "      <td>...</td>\n",
       "      <td>0</td>\n",
       "      <td>0</td>\n",
       "      <td>0</td>\n",
       "      <td>0</td>\n",
       "      <td>0</td>\n",
       "      <td>1</td>\n",
       "      <td>0</td>\n",
       "      <td>1</td>\n",
       "      <td>0</td>\n",
       "      <td>0</td>\n",
       "    </tr>\n",
       "  </tbody>\n",
       "</table>\n",
       "<p>5 rows × 63 columns</p>\n",
       "</div>"
      ],
      "text/plain": [
       "   location_easting_osgr  location_northing_osgr  longitude   latitude  \\\n",
       "0               409490.0                430000.0  -1.857516  53.766278   \n",
       "1               343790.0                747000.0  -2.917379  56.611478   \n",
       "2                92370.0                202000.0  -6.447135  51.632471   \n",
       "3               129270.0                489000.0  -6.155094  54.224961   \n",
       "4               368270.0                173000.0  -2.458051  51.455082   \n",
       "\n",
       "   accident_severity  number_of_vehicles  number_of_casualties  speed_limit  \\\n",
       "0                  2                   3                     1         30.0   \n",
       "1                  2                   2                     4         40.0   \n",
       "2                  2                   3                     4         30.0   \n",
       "3                  2                   3                     2         30.0   \n",
       "4                  2                   1                     1         30.0   \n",
       "\n",
       "   pedestrian_crossing_physical_facilities  Week number  ...  \\\n",
       "0                                        0            1  ...   \n",
       "1                                        0            1  ...   \n",
       "2                                        0            1  ...   \n",
       "3                                        0            1  ...   \n",
       "4                                        0            1  ...   \n",
       "\n",
       "   local_authority_district_Barnet  local_authority_district_Islington  \\\n",
       "0                                0                                   0   \n",
       "1                                0                                   0   \n",
       "2                                0                                   0   \n",
       "3                                0                                   0   \n",
       "4                                0                                   0   \n",
       "\n",
       "   local_authority_district_Hackney  local_authority_district_Camden  Weekend  \\\n",
       "0                                 0                                0        0   \n",
       "1                                 0                                0        0   \n",
       "2                                 0                                0        0   \n",
       "3                                 0                                0        0   \n",
       "4                                 0                                0        0   \n",
       "\n",
       "   month  Afternoon  Dawn  Evening  Morning  \n",
       "0      1          0     1        0        0  \n",
       "1      1          0     1        0        0  \n",
       "2      1          0     1        0        0  \n",
       "3      1          0     1        0        0  \n",
       "4      1          0     1        0        0  \n",
       "\n",
       "[5 rows x 63 columns]"
      ]
     },
     "execution_count": 280,
     "metadata": {},
     "output_type": "execute_result"
    }
   ],
   "source": [
    "add_columns['datetime'] = add_columns['date'].astype(str) + ' ' + add_columns['time']\n",
    "add_columns['datetime'] = pd.to_datetime(add_columns['datetime'])\n",
    "mapp = {}\n",
    "for i in range(24):\n",
    "    if 5 <= i <= 11:\n",
    "        mapp[str(i)] = 'Morning'\n",
    "    elif 12 <= i <= 18: \n",
    "        mapp[str(i)] = 'Afternoon'\n",
    "    elif 19 <= i <= 24: \n",
    "        mapp[str(i)] = 'Evening'\n",
    "    else:\n",
    "         mapp[str(i)] = 'Dawn'\n",
    "add_columns['time'] = (add_columns['datetime'].dt.hour).astype(str).map(mapp)\n",
    "one_hot = pd.get_dummies(add_columns['time'])\n",
    "add_columns = pd.concat([add_columns, one_hot], axis='columns')\n",
    "add_columns.drop(['time', 'date', 'datetime'], inplace=True, axis=1)\n",
    "add_columns.head()"
   ]
  },
  {
   "cell_type": "markdown",
   "metadata": {},
   "source": [
    "## 4.41 - Findings and concluisons"
   ]
  },
  {
   "cell_type": "markdown",
   "metadata": {},
   "source": [
    "<ul>\n",
    "    <li>Weekend column was created to indicate if the accident happend on a weekend day or not.</li>\n",
    "    <li>Time was divided into 4 intervals.</li>\n",
    "</ul>"
   ]
  },
  {
   "cell_type": "markdown",
   "metadata": {},
   "source": [
    "## Removing Outliers"
   ]
  },
  {
   "cell_type": "markdown",
   "metadata": {},
   "source": [
    "###  Speed limit, Number of Vehicles and Number of Casualties are numeric features. Let's inspect their outliers but first let's plot their distributions."
   ]
  },
  {
   "cell_type": "code",
   "execution_count": 281,
   "metadata": {},
   "outputs": [
    {
     "data": {
      "image/png": "[encoded data removed]",
      "text/plain": [
       "<Figure size 1000x1500 with 3 Axes>"
      ]
     },
     "metadata": {},
     "output_type": "display_data"
    }
   ],
   "source": [
    "fig, ax = plt.subplots(3, 1)\n",
    "fig.set_figheight(15)\n",
    "fig.set_figwidth(10)\n",
    "sns.distplot(add_columns['speed_limit'], ax=ax[0])\n",
    "sns.distplot(add_columns['number_of_casualties'], ax=ax[1])\n",
    "sns.distplot(add_columns['number_of_vehicles'], ax=ax[2])\n",
    "plt.show()"
   ]
  },
  {
   "cell_type": "markdown",
   "metadata": {},
   "source": [
    "### Their distributions are not normal. Z-Score normalization is not suitable in this case. Let's try the IQR method."
   ]
  },
  {
   "cell_type": "code",
   "execution_count": 282,
   "metadata": {},
   "outputs": [],
   "source": [
    "def outliers_iqr(df, feature, remove_outliers=False):\n",
    "    q1 = df[feature].quantile(0.25)\n",
    "    q3 = df[feature].quantile(0.75)\n",
    "    iqr = q3 - q1\n",
    "    lower = q1 - 1.5*iqr\n",
    "    upper = q3 + 1.5*iqr\n",
    "\n",
    "    f = (df[feature] > upper) | (df[feature] < lower)\n",
    "\n",
    "    number_of_outliers = df[f].shape[0]\n",
    "    percentage = 100 * number_of_outliers / ORIGINAL_DATA_SIZE\n",
    "    print('Outliers contribute with {:.2f}% to the dataset.'.format(percentage))\n",
    "    if remove_outliers:\n",
    "        return df[~f]"
   ]
  },
  {
   "cell_type": "markdown",
   "metadata": {},
   "source": [
    "### Let's see if we can remove outliers using IQR method."
   ]
  },
  {
   "cell_type": "code",
   "execution_count": 283,
   "metadata": {},
   "outputs": [
    {
     "name": "stdout",
     "output_type": "stream",
     "text": [
      "Outliers contribute with 22.71% to the dataset.\n"
     ]
    }
   ],
   "source": [
    "outliers_iqr(add_columns, 'speed_limit')"
   ]
  },
  {
   "cell_type": "code",
   "execution_count": 284,
   "metadata": {},
   "outputs": [
    {
     "name": "stdout",
     "output_type": "stream",
     "text": [
      "Outliers contribute with 20.13% to the dataset.\n"
     ]
    }
   ],
   "source": [
    "outliers_iqr(add_columns, 'number_of_casualties')"
   ]
  },
  {
   "cell_type": "code",
   "execution_count": 285,
   "metadata": {},
   "outputs": [
    {
     "name": "stdout",
     "output_type": "stream",
     "text": [
      "Outliers contribute with 1.53% to the dataset.\n"
     ]
    }
   ],
   "source": [
    "outliers_iqr(add_columns, 'number_of_vehicles')"
   ]
  },
  {
   "cell_type": "markdown",
   "metadata": {},
   "source": [
    "### IQR method will result in removing large portion of the data. Let's try LOF."
   ]
  },
  {
   "cell_type": "markdown",
   "metadata": {},
   "source": [
    "### Since the data is categorical, LOF will be helpful in removing outliers."
   ]
  },
  {
   "cell_type": "markdown",
   "metadata": {},
   "source": [
    "### Location features such as latitude and longitude are not linear, thus we excluded them when we calculated the outliers."
   ]
  },
  {
   "cell_type": "code",
   "execution_count": 286,
   "metadata": {},
   "outputs": [],
   "source": [
    "from sklearn.neighbors import LocalOutlierFactor as LOF\n",
    "outliers_dropped = add_columns.copy()\n",
    "X = outliers_dropped.drop(['longitude', 'latitude', 'location_easting_osgr', 'location_northing_osgr'], axis=1)\n",
    "predictions =  LOF().fit_predict(X)\n",
    "outliers_dropped['outlier'] = predictions"
   ]
  },
  {
   "cell_type": "code",
   "execution_count": 287,
   "metadata": {},
   "outputs": [
    {
     "name": "stdout",
     "output_type": "stream",
     "text": [
      "Total number of outliers: 534\n",
      "New data size: 246169 rows\n",
      "Percentage of dropped data since beginning: 0.85%\n"
     ]
    }
   ],
   "source": [
    "outliers = outliers_dropped[outliers_dropped['outlier'] == -1]\n",
    "outliers_dropped = outliers_dropped[outliers_dropped['outlier'] == 1]\n",
    "outliers_dropped.drop('outlier', axis=1, inplace=True)\n",
    "print('Total number of outliers: {}'.format(outliers.shape[0]))\n",
    "new_size(outliers_dropped)"
   ]
  },
  {
   "cell_type": "markdown",
   "metadata": {},
   "source": [
    "# Normalization"
   ]
  },
  {
   "cell_type": "markdown",
   "metadata": {},
   "source": [
    "### Now let's normalize all numeric features except for location features as it's not meaningful to perform calculations on location."
   ]
  },
  {
   "cell_type": "markdown",
   "metadata": {},
   "source": [
    "### Z-Score normalization and MinMax normalization are ok, However MinMax will result in all the features having the same range [0, 1] which is better for comparison and if any feature is added in the future it will have the same range."
   ]
  },
  {
   "cell_type": "code",
   "execution_count": 288,
   "metadata": {},
   "outputs": [],
   "source": [
    "pre_normalized = outliers_dropped.copy()\n",
    "min_max_normalized = pre_normalized.copy()\n",
    "from sklearn.preprocessing import MinMaxScaler\n",
    "min_max_scaler = MinMaxScaler()\n",
    "x = outliers_dropped[to_be_normalized]\n",
    "x = x.loc[:, ~x.columns.isin(['longitude', 'latitude', 'location_northing_osgr', 'location_easting_osgr'])]\n",
    "min_max_normalized[x.columns] = min_max_scaler.fit_transform(x)"
   ]
  },
  {
   "cell_type": "markdown",
   "metadata": {},
   "source": [
    "## Before "
   ]
  },
  {
   "cell_type": "code",
   "execution_count": 289,
   "metadata": {},
   "outputs": [
    {
     "data": {
      "text/html": [
       "<div>\n",
       "<style scoped>\n",
       "    .dataframe tbody tr th:only-of-type {\n",
       "        vertical-align: middle;\n",
       "    }\n",
       "\n",
       "    .dataframe tbody tr th {\n",
       "        vertical-align: top;\n",
       "    }\n",
       "\n",
       "    .dataframe thead th {\n",
       "        text-align: right;\n",
       "    }\n",
       "</style>\n",
       "<table border=\"1\" class=\"dataframe\">\n",
       "  <thead>\n",
       "    <tr style=\"text-align: right;\">\n",
       "      <th></th>\n",
       "      <th>location_easting_osgr</th>\n",
       "      <th>location_northing_osgr</th>\n",
       "      <th>longitude</th>\n",
       "      <th>latitude</th>\n",
       "      <th>number_of_vehicles</th>\n",
       "      <th>number_of_casualties</th>\n",
       "      <th>speed_limit</th>\n",
       "      <th>pedestrian_crossing_physical_facilities</th>\n",
       "      <th>Week number</th>\n",
       "    </tr>\n",
       "  </thead>\n",
       "  <tbody>\n",
       "    <tr>\n",
       "      <th>0</th>\n",
       "      <td>409490.0</td>\n",
       "      <td>430000.0</td>\n",
       "      <td>-1.857516</td>\n",
       "      <td>53.766278</td>\n",
       "      <td>3</td>\n",
       "      <td>1</td>\n",
       "      <td>30.0</td>\n",
       "      <td>0</td>\n",
       "      <td>1</td>\n",
       "    </tr>\n",
       "    <tr>\n",
       "      <th>1</th>\n",
       "      <td>343790.0</td>\n",
       "      <td>747000.0</td>\n",
       "      <td>-2.917379</td>\n",
       "      <td>56.611478</td>\n",
       "      <td>2</td>\n",
       "      <td>4</td>\n",
       "      <td>40.0</td>\n",
       "      <td>0</td>\n",
       "      <td>1</td>\n",
       "    </tr>\n",
       "    <tr>\n",
       "      <th>2</th>\n",
       "      <td>92370.0</td>\n",
       "      <td>202000.0</td>\n",
       "      <td>-6.447135</td>\n",
       "      <td>51.632471</td>\n",
       "      <td>3</td>\n",
       "      <td>4</td>\n",
       "      <td>30.0</td>\n",
       "      <td>0</td>\n",
       "      <td>1</td>\n",
       "    </tr>\n",
       "    <tr>\n",
       "      <th>3</th>\n",
       "      <td>129270.0</td>\n",
       "      <td>489000.0</td>\n",
       "      <td>-6.155094</td>\n",
       "      <td>54.224961</td>\n",
       "      <td>3</td>\n",
       "      <td>2</td>\n",
       "      <td>30.0</td>\n",
       "      <td>0</td>\n",
       "      <td>1</td>\n",
       "    </tr>\n",
       "    <tr>\n",
       "      <th>4</th>\n",
       "      <td>368270.0</td>\n",
       "      <td>173000.0</td>\n",
       "      <td>-2.458051</td>\n",
       "      <td>51.455082</td>\n",
       "      <td>1</td>\n",
       "      <td>1</td>\n",
       "      <td>30.0</td>\n",
       "      <td>0</td>\n",
       "      <td>1</td>\n",
       "    </tr>\n",
       "    <tr>\n",
       "      <th>...</th>\n",
       "      <td>...</td>\n",
       "      <td>...</td>\n",
       "      <td>...</td>\n",
       "      <td>...</td>\n",
       "      <td>...</td>\n",
       "      <td>...</td>\n",
       "      <td>...</td>\n",
       "      <td>...</td>\n",
       "      <td>...</td>\n",
       "    </tr>\n",
       "    <tr>\n",
       "      <th>248271</th>\n",
       "      <td>308200.0</td>\n",
       "      <td>602700.0</td>\n",
       "      <td>-3.447799</td>\n",
       "      <td>55.309796</td>\n",
       "      <td>1</td>\n",
       "      <td>1</td>\n",
       "      <td>70.0</td>\n",
       "      <td>0</td>\n",
       "      <td>52</td>\n",
       "    </tr>\n",
       "    <tr>\n",
       "      <th>248272</th>\n",
       "      <td>247710.0</td>\n",
       "      <td>546500.0</td>\n",
       "      <td>-4.370030</td>\n",
       "      <td>54.790218</td>\n",
       "      <td>2</td>\n",
       "      <td>1</td>\n",
       "      <td>30.0</td>\n",
       "      <td>0</td>\n",
       "      <td>46</td>\n",
       "    </tr>\n",
       "    <tr>\n",
       "      <th>248273</th>\n",
       "      <td>237800.0</td>\n",
       "      <td>556900.0</td>\n",
       "      <td>-4.529828</td>\n",
       "      <td>54.880478</td>\n",
       "      <td>1</td>\n",
       "      <td>2</td>\n",
       "      <td>60.0</td>\n",
       "      <td>0</td>\n",
       "      <td>52</td>\n",
       "    </tr>\n",
       "    <tr>\n",
       "      <th>248274</th>\n",
       "      <td>213200.0</td>\n",
       "      <td>558200.0</td>\n",
       "      <td>-4.913604</td>\n",
       "      <td>54.883560</td>\n",
       "      <td>2</td>\n",
       "      <td>1</td>\n",
       "      <td>60.0</td>\n",
       "      <td>0</td>\n",
       "      <td>52</td>\n",
       "    </tr>\n",
       "    <tr>\n",
       "      <th>248275</th>\n",
       "      <td>275500.0</td>\n",
       "      <td>597700.0</td>\n",
       "      <td>-3.960457</td>\n",
       "      <td>55.257703</td>\n",
       "      <td>2</td>\n",
       "      <td>1</td>\n",
       "      <td>30.0</td>\n",
       "      <td>0</td>\n",
       "      <td>15</td>\n",
       "    </tr>\n",
       "  </tbody>\n",
       "</table>\n",
       "<p>246169 rows × 9 columns</p>\n",
       "</div>"
      ],
      "text/plain": [
       "        location_easting_osgr  location_northing_osgr  longitude   latitude  \\\n",
       "0                    409490.0                430000.0  -1.857516  53.766278   \n",
       "1                    343790.0                747000.0  -2.917379  56.611478   \n",
       "2                     92370.0                202000.0  -6.447135  51.632471   \n",
       "3                    129270.0                489000.0  -6.155094  54.224961   \n",
       "4                    368270.0                173000.0  -2.458051  51.455082   \n",
       "...                       ...                     ...        ...        ...   \n",
       "248271               308200.0                602700.0  -3.447799  55.309796   \n",
       "248272               247710.0                546500.0  -4.370030  54.790218   \n",
       "248273               237800.0                556900.0  -4.529828  54.880478   \n",
       "248274               213200.0                558200.0  -4.913604  54.883560   \n",
       "248275               275500.0                597700.0  -3.960457  55.257703   \n",
       "\n",
       "        number_of_vehicles  number_of_casualties  speed_limit  \\\n",
       "0                        3                     1         30.0   \n",
       "1                        2                     4         40.0   \n",
       "2                        3                     4         30.0   \n",
       "3                        3                     2         30.0   \n",
       "4                        1                     1         30.0   \n",
       "...                    ...                   ...          ...   \n",
       "248271                   1                     1         70.0   \n",
       "248272                   2                     1         30.0   \n",
       "248273                   1                     2         60.0   \n",
       "248274                   2                     1         60.0   \n",
       "248275                   2                     1         30.0   \n",
       "\n",
       "        pedestrian_crossing_physical_facilities  Week number  \n",
       "0                                             0            1  \n",
       "1                                             0            1  \n",
       "2                                             0            1  \n",
       "3                                             0            1  \n",
       "4                                             0            1  \n",
       "...                                         ...          ...  \n",
       "248271                                        0           52  \n",
       "248272                                        0           46  \n",
       "248273                                        0           52  \n",
       "248274                                        0           52  \n",
       "248275                                        0           15  \n",
       "\n",
       "[246169 rows x 9 columns]"
      ]
     },
     "execution_count": 289,
     "metadata": {},
     "output_type": "execute_result"
    }
   ],
   "source": [
    "pre_normalized[to_be_normalized]"
   ]
  },
  {
   "cell_type": "markdown",
   "metadata": {},
   "source": [
    "## After"
   ]
  },
  {
   "cell_type": "code",
   "execution_count": 290,
   "metadata": {},
   "outputs": [
    {
     "data": {
      "text/html": [
       "<div>\n",
       "<style scoped>\n",
       "    .dataframe tbody tr th:only-of-type {\n",
       "        vertical-align: middle;\n",
       "    }\n",
       "\n",
       "    .dataframe tbody tr th {\n",
       "        vertical-align: top;\n",
       "    }\n",
       "\n",
       "    .dataframe thead th {\n",
       "        text-align: right;\n",
       "    }\n",
       "</style>\n",
       "<table border=\"1\" class=\"dataframe\">\n",
       "  <thead>\n",
       "    <tr style=\"text-align: right;\">\n",
       "      <th></th>\n",
       "      <th>location_easting_osgr</th>\n",
       "      <th>location_northing_osgr</th>\n",
       "      <th>longitude</th>\n",
       "      <th>latitude</th>\n",
       "      <th>number_of_vehicles</th>\n",
       "      <th>number_of_casualties</th>\n",
       "      <th>speed_limit</th>\n",
       "      <th>pedestrian_crossing_physical_facilities</th>\n",
       "      <th>Week number</th>\n",
       "    </tr>\n",
       "  </thead>\n",
       "  <tbody>\n",
       "    <tr>\n",
       "      <th>0</th>\n",
       "      <td>409490.0</td>\n",
       "      <td>430000.0</td>\n",
       "      <td>-1.857516</td>\n",
       "      <td>53.766278</td>\n",
       "      <td>0.181818</td>\n",
       "      <td>0.000000</td>\n",
       "      <td>0.00</td>\n",
       "      <td>0.0</td>\n",
       "      <td>0.0</td>\n",
       "    </tr>\n",
       "    <tr>\n",
       "      <th>1</th>\n",
       "      <td>343790.0</td>\n",
       "      <td>747000.0</td>\n",
       "      <td>-2.917379</td>\n",
       "      <td>56.611478</td>\n",
       "      <td>0.090909</td>\n",
       "      <td>0.250000</td>\n",
       "      <td>0.25</td>\n",
       "      <td>0.0</td>\n",
       "      <td>0.0</td>\n",
       "    </tr>\n",
       "    <tr>\n",
       "      <th>2</th>\n",
       "      <td>92370.0</td>\n",
       "      <td>202000.0</td>\n",
       "      <td>-6.447135</td>\n",
       "      <td>51.632471</td>\n",
       "      <td>0.181818</td>\n",
       "      <td>0.250000</td>\n",
       "      <td>0.00</td>\n",
       "      <td>0.0</td>\n",
       "      <td>0.0</td>\n",
       "    </tr>\n",
       "    <tr>\n",
       "      <th>3</th>\n",
       "      <td>129270.0</td>\n",
       "      <td>489000.0</td>\n",
       "      <td>-6.155094</td>\n",
       "      <td>54.224961</td>\n",
       "      <td>0.181818</td>\n",
       "      <td>0.083333</td>\n",
       "      <td>0.00</td>\n",
       "      <td>0.0</td>\n",
       "      <td>0.0</td>\n",
       "    </tr>\n",
       "    <tr>\n",
       "      <th>4</th>\n",
       "      <td>368270.0</td>\n",
       "      <td>173000.0</td>\n",
       "      <td>-2.458051</td>\n",
       "      <td>51.455082</td>\n",
       "      <td>0.000000</td>\n",
       "      <td>0.000000</td>\n",
       "      <td>0.00</td>\n",
       "      <td>0.0</td>\n",
       "      <td>0.0</td>\n",
       "    </tr>\n",
       "  </tbody>\n",
       "</table>\n",
       "</div>"
      ],
      "text/plain": [
       "   location_easting_osgr  location_northing_osgr  longitude   latitude  \\\n",
       "0               409490.0                430000.0  -1.857516  53.766278   \n",
       "1               343790.0                747000.0  -2.917379  56.611478   \n",
       "2                92370.0                202000.0  -6.447135  51.632471   \n",
       "3               129270.0                489000.0  -6.155094  54.224961   \n",
       "4               368270.0                173000.0  -2.458051  51.455082   \n",
       "\n",
       "   number_of_vehicles  number_of_casualties  speed_limit  \\\n",
       "0            0.181818              0.000000         0.00   \n",
       "1            0.090909              0.250000         0.25   \n",
       "2            0.181818              0.250000         0.00   \n",
       "3            0.181818              0.083333         0.00   \n",
       "4            0.000000              0.000000         0.00   \n",
       "\n",
       "   pedestrian_crossing_physical_facilities  Week number  \n",
       "0                                      0.0          0.0  \n",
       "1                                      0.0          0.0  \n",
       "2                                      0.0          0.0  \n",
       "3                                      0.0          0.0  \n",
       "4                                      0.0          0.0  "
      ]
     },
     "execution_count": 290,
     "metadata": {},
     "output_type": "execute_result"
    }
   ],
   "source": [
    "min_max_normalized[to_be_normalized].head()"
   ]
  },
  {
   "cell_type": "markdown",
   "metadata": {},
   "source": [
    "## 4.5 - Csv file for lookup"
   ]
  },
  {
   "cell_type": "code",
   "execution_count": 291,
   "metadata": {},
   "outputs": [
    {
     "data": {
      "text/html": [
       "<div>\n",
       "<style scoped>\n",
       "    .dataframe tbody tr th:only-of-type {\n",
       "        vertical-align: middle;\n",
       "    }\n",
       "\n",
       "    .dataframe tbody tr th {\n",
       "        vertical-align: top;\n",
       "    }\n",
       "\n",
       "    .dataframe thead th {\n",
       "        text-align: right;\n",
       "    }\n",
       "</style>\n",
       "<table border=\"1\" class=\"dataframe\">\n",
       "  <thead>\n",
       "    <tr style=\"text-align: right;\">\n",
       "      <th></th>\n",
       "      <th>Column Name</th>\n",
       "      <th>Original value</th>\n",
       "      <th>Mapped value</th>\n",
       "    </tr>\n",
       "  </thead>\n",
       "  <tbody>\n",
       "    <tr>\n",
       "      <th>0</th>\n",
       "      <td>junction_control</td>\n",
       "      <td>NaN</td>\n",
       "      <td>Missing</td>\n",
       "    </tr>\n",
       "    <tr>\n",
       "      <th>1</th>\n",
       "      <td>accident_severity</td>\n",
       "      <td>Slight</td>\n",
       "      <td>2</td>\n",
       "    </tr>\n",
       "    <tr>\n",
       "      <th>2</th>\n",
       "      <td>accident_severity</td>\n",
       "      <td>Serious</td>\n",
       "      <td>1</td>\n",
       "    </tr>\n",
       "    <tr>\n",
       "      <th>3</th>\n",
       "      <td>accident_severity</td>\n",
       "      <td>Fatal</td>\n",
       "      <td>0</td>\n",
       "    </tr>\n",
       "  </tbody>\n",
       "</table>\n",
       "</div>"
      ],
      "text/plain": [
       "         Column Name Original value Mapped value\n",
       "0   junction_control            NaN      Missing\n",
       "1  accident_severity         Slight            2\n",
       "2  accident_severity        Serious            1\n",
       "3  accident_severity          Fatal            0"
      ]
     },
     "execution_count": 291,
     "metadata": {},
     "output_type": "execute_result"
    }
   ],
   "source": [
    "pd.DataFrame(csv_lookup).set_index('Column Name').to_csv('csv_lookup.csv')\n",
    "pd.read_csv('csv_lookup.csv')"
   ]
  },
  {
   "cell_type": "markdown",
   "metadata": {},
   "source": [
    "## 5- Exporting the dataframe to a csv file or parquet"
   ]
  },
  {
   "cell_type": "code",
   "execution_count": 292,
   "metadata": {},
   "outputs": [],
   "source": [
    "min_max_normalized.to_parquet('final.parquet')\n",
    "min_max_normalized.to_csv('final.csv')"
   ]
  },
  {
   "cell_type": "markdown",
   "metadata": {},
   "source": [
    "# Loading DataFrame from parquet file."
   ]
  },
  {
   "cell_type": "code",
   "execution_count": 293,
   "metadata": {},
   "outputs": [
    {
     "data": {
      "text/html": [
       "<div>\n",
       "<style scoped>\n",
       "    .dataframe tbody tr th:only-of-type {\n",
       "        vertical-align: middle;\n",
       "    }\n",
       "\n",
       "    .dataframe tbody tr th {\n",
       "        vertical-align: top;\n",
       "    }\n",
       "\n",
       "    .dataframe thead th {\n",
       "        text-align: right;\n",
       "    }\n",
       "</style>\n",
       "<table border=\"1\" class=\"dataframe\">\n",
       "  <thead>\n",
       "    <tr style=\"text-align: right;\">\n",
       "      <th></th>\n",
       "      <th>location_easting_osgr</th>\n",
       "      <th>location_northing_osgr</th>\n",
       "      <th>longitude</th>\n",
       "      <th>latitude</th>\n",
       "      <th>accident_severity</th>\n",
       "      <th>number_of_vehicles</th>\n",
       "      <th>number_of_casualties</th>\n",
       "      <th>speed_limit</th>\n",
       "      <th>pedestrian_crossing_physical_facilities</th>\n",
       "      <th>Week number</th>\n",
       "      <th>...</th>\n",
       "      <th>local_authority_district_Barnet</th>\n",
       "      <th>local_authority_district_Islington</th>\n",
       "      <th>local_authority_district_Hackney</th>\n",
       "      <th>local_authority_district_Camden</th>\n",
       "      <th>Weekend</th>\n",
       "      <th>month</th>\n",
       "      <th>Afternoon</th>\n",
       "      <th>Dawn</th>\n",
       "      <th>Evening</th>\n",
       "      <th>Morning</th>\n",
       "    </tr>\n",
       "  </thead>\n",
       "  <tbody>\n",
       "    <tr>\n",
       "      <th>0</th>\n",
       "      <td>409490.0</td>\n",
       "      <td>430000.0</td>\n",
       "      <td>-1.857516</td>\n",
       "      <td>53.766278</td>\n",
       "      <td>2</td>\n",
       "      <td>0.181818</td>\n",
       "      <td>0.000000</td>\n",
       "      <td>0.00</td>\n",
       "      <td>0.0</td>\n",
       "      <td>0.0</td>\n",
       "      <td>...</td>\n",
       "      <td>0</td>\n",
       "      <td>0</td>\n",
       "      <td>0</td>\n",
       "      <td>0</td>\n",
       "      <td>0</td>\n",
       "      <td>1</td>\n",
       "      <td>0</td>\n",
       "      <td>1</td>\n",
       "      <td>0</td>\n",
       "      <td>0</td>\n",
       "    </tr>\n",
       "    <tr>\n",
       "      <th>1</th>\n",
       "      <td>343790.0</td>\n",
       "      <td>747000.0</td>\n",
       "      <td>-2.917379</td>\n",
       "      <td>56.611478</td>\n",
       "      <td>2</td>\n",
       "      <td>0.090909</td>\n",
       "      <td>0.250000</td>\n",
       "      <td>0.25</td>\n",
       "      <td>0.0</td>\n",
       "      <td>0.0</td>\n",
       "      <td>...</td>\n",
       "      <td>0</td>\n",
       "      <td>0</td>\n",
       "      <td>0</td>\n",
       "      <td>0</td>\n",
       "      <td>0</td>\n",
       "      <td>1</td>\n",
       "      <td>0</td>\n",
       "      <td>1</td>\n",
       "      <td>0</td>\n",
       "      <td>0</td>\n",
       "    </tr>\n",
       "    <tr>\n",
       "      <th>2</th>\n",
       "      <td>92370.0</td>\n",
       "      <td>202000.0</td>\n",
       "      <td>-6.447135</td>\n",
       "      <td>51.632471</td>\n",
       "      <td>2</td>\n",
       "      <td>0.181818</td>\n",
       "      <td>0.250000</td>\n",
       "      <td>0.00</td>\n",
       "      <td>0.0</td>\n",
       "      <td>0.0</td>\n",
       "      <td>...</td>\n",
       "      <td>0</td>\n",
       "      <td>0</td>\n",
       "      <td>0</td>\n",
       "      <td>0</td>\n",
       "      <td>0</td>\n",
       "      <td>1</td>\n",
       "      <td>0</td>\n",
       "      <td>1</td>\n",
       "      <td>0</td>\n",
       "      <td>0</td>\n",
       "    </tr>\n",
       "    <tr>\n",
       "      <th>3</th>\n",
       "      <td>129270.0</td>\n",
       "      <td>489000.0</td>\n",
       "      <td>-6.155094</td>\n",
       "      <td>54.224961</td>\n",
       "      <td>2</td>\n",
       "      <td>0.181818</td>\n",
       "      <td>0.083333</td>\n",
       "      <td>0.00</td>\n",
       "      <td>0.0</td>\n",
       "      <td>0.0</td>\n",
       "      <td>...</td>\n",
       "      <td>0</td>\n",
       "      <td>0</td>\n",
       "      <td>0</td>\n",
       "      <td>0</td>\n",
       "      <td>0</td>\n",
       "      <td>1</td>\n",
       "      <td>0</td>\n",
       "      <td>1</td>\n",
       "      <td>0</td>\n",
       "      <td>0</td>\n",
       "    </tr>\n",
       "    <tr>\n",
       "      <th>4</th>\n",
       "      <td>368270.0</td>\n",
       "      <td>173000.0</td>\n",
       "      <td>-2.458051</td>\n",
       "      <td>51.455082</td>\n",
       "      <td>2</td>\n",
       "      <td>0.000000</td>\n",
       "      <td>0.000000</td>\n",
       "      <td>0.00</td>\n",
       "      <td>0.0</td>\n",
       "      <td>0.0</td>\n",
       "      <td>...</td>\n",
       "      <td>0</td>\n",
       "      <td>0</td>\n",
       "      <td>0</td>\n",
       "      <td>0</td>\n",
       "      <td>0</td>\n",
       "      <td>1</td>\n",
       "      <td>0</td>\n",
       "      <td>1</td>\n",
       "      <td>0</td>\n",
       "      <td>0</td>\n",
       "    </tr>\n",
       "  </tbody>\n",
       "</table>\n",
       "<p>5 rows × 63 columns</p>\n",
       "</div>"
      ],
      "text/plain": [
       "   location_easting_osgr  location_northing_osgr  longitude   latitude  \\\n",
       "0               409490.0                430000.0  -1.857516  53.766278   \n",
       "1               343790.0                747000.0  -2.917379  56.611478   \n",
       "2                92370.0                202000.0  -6.447135  51.632471   \n",
       "3               129270.0                489000.0  -6.155094  54.224961   \n",
       "4               368270.0                173000.0  -2.458051  51.455082   \n",
       "\n",
       "   accident_severity  number_of_vehicles  number_of_casualties  speed_limit  \\\n",
       "0                  2            0.181818              0.000000         0.00   \n",
       "1                  2            0.090909              0.250000         0.25   \n",
       "2                  2            0.181818              0.250000         0.00   \n",
       "3                  2            0.181818              0.083333         0.00   \n",
       "4                  2            0.000000              0.000000         0.00   \n",
       "\n",
       "   pedestrian_crossing_physical_facilities  Week number  ...  \\\n",
       "0                                      0.0          0.0  ...   \n",
       "1                                      0.0          0.0  ...   \n",
       "2                                      0.0          0.0  ...   \n",
       "3                                      0.0          0.0  ...   \n",
       "4                                      0.0          0.0  ...   \n",
       "\n",
       "   local_authority_district_Barnet  local_authority_district_Islington  \\\n",
       "0                                0                                   0   \n",
       "1                                0                                   0   \n",
       "2                                0                                   0   \n",
       "3                                0                                   0   \n",
       "4                                0                                   0   \n",
       "\n",
       "   local_authority_district_Hackney  local_authority_district_Camden  Weekend  \\\n",
       "0                                 0                                0        0   \n",
       "1                                 0                                0        0   \n",
       "2                                 0                                0        0   \n",
       "3                                 0                                0        0   \n",
       "4                                 0                                0        0   \n",
       "\n",
       "   month  Afternoon  Dawn  Evening  Morning  \n",
       "0      1          0     1        0        0  \n",
       "1      1          0     1        0        0  \n",
       "2      1          0     1        0        0  \n",
       "3      1          0     1        0        0  \n",
       "4      1          0     1        0        0  \n",
       "\n",
       "[5 rows x 63 columns]"
      ]
     },
     "execution_count": 293,
     "metadata": {},
     "output_type": "execute_result"
    }
   ],
   "source": [
    "loaded = pd.read_parquet('final.parquet')\n",
    "loaded.head()"
   ]
  }
 ],
 "metadata": {
  "kernelspec": {
   "display_name": "Python 3.10.8 64-bit",
   "language": "python",
   "name": "python3"
  },
  "language_info": {
   "codemirror_mode": {
    "name": "ipython",
    "version": 3
   },
   "file_extension": ".py",
   "mimetype": "text/x-python",
   "name": "python",
   "nbconvert_exporter": "python",
   "pygments_lexer": "ipython3",
   "version": "3.10.8"
  },
  "vscode": {
   "interpreter": {
    "hash": "aee8b7b246df8f9039afb4144a1f6fd8d2ca17a180786b69acc140d282b71a49"
   }
  }
 },
 "nbformat": 4,
 "nbformat_minor": 4
}
